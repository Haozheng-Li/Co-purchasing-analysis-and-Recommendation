{
 "cells": [
  {
   "cell_type": "markdown",
   "metadata": {
    "collapsed": false
   },
   "source": [
    "## Part I: Data Pre-processing"
   ]
  },
  {
   "cell_type": "markdown",
   "metadata": {
    "collapsed": false
   },
   "source": [
    "### txt to csv"
   ]
  },
  {
   "cell_type": "code",
   "execution_count": 1,
   "metadata": {
    "collapsed": false,
    "pycharm": {
     "name": "#%%\n"
    }
   },
   "outputs": [
    {
     "name": "stdout",
     "output_type": "stream",
     "text": [
      "15010572\n"
     ]
    },
    {
     "data": {
      "text/plain": [
       "548553"
      ]
     },
     "execution_count": 1,
     "metadata": {},
     "output_type": "execute_result"
    }
   ],
   "source": [
    "import pandas as pd\n",
    "\n",
    "f = open('amazon-meta.txt',mode='r',encoding='utf-8')\n",
    "fulltxt=f.readlines()\n",
    "f.close()\n",
    "s=pd.Series(fulltxt)[2:]\n",
    "s=s.reset_index(drop=True)\n",
    "print(len(s))\n",
    "idxs=s[s=='\\n'].index\n",
    "len(idxs)"
   ]
  },
  {
   "cell_type": "code",
   "execution_count": 2,
   "metadata": {
    "collapsed": false,
    "pycharm": {
     "name": "#%%\n"
    }
   },
   "outputs": [],
   "source": [
    "import re\n",
    "\n",
    "df=pd.DataFrame(columns=['Id','ASIN','DiscontinuedORNOT','title','group','salesrank','similar','similar_id','categories','reviews','reviews_total',\n",
    "                        'reviews_downloaded','reviews_avgrating','cutomer_id'])\n",
    "\n",
    "txt=[]\n",
    "for i,idx in enumerate(idxs):\n",
    "    if i<len(idxs)-1:\n",
    "        b=s[(idxs[i]+1):idxs[i+1]].sum()\n",
    "        txt.append(b)"
   ]
  },
  {
   "cell_type": "code",
   "execution_count": 3,
   "metadata": {
    "collapsed": false,
    "pycharm": {
     "name": "#%%\n"
    }
   },
   "outputs": [],
   "source": [
    "s_txt=pd.Series(txt)\n",
    "df=pd.DataFrame(s_txt)\n",
    "df.columns=['fulltxt']"
   ]
  },
  {
   "cell_type": "code",
   "execution_count": 4,
   "metadata": {
    "collapsed": false,
    "pycharm": {
     "name": "#%%\n"
    }
   },
   "outputs": [],
   "source": [
    "df['id']=df['fulltxt'].map(lambda b:re.findall('Id:   \\d+',b)[0][6:])\n",
    "df['ASIN']=df['fulltxt'].map(lambda b:re.findall('ASIN: .+\\n',b)[0][6:-1])\n",
    "df['DiscontinuedORNOT']=df['fulltxt'].map(lambda b:'discontinued' in b)"
   ]
  },
  {
   "cell_type": "code",
   "execution_count": 5,
   "metadata": {
    "collapsed": false,
    "pycharm": {
     "name": "#%%\n"
    }
   },
   "outputs": [],
   "source": [
    "df_F=df[df.DiscontinuedORNOT==False]\n",
    "df_T=df[df.DiscontinuedORNOT==True]"
   ]
  },
  {
   "cell_type": "code",
   "execution_count": 6,
   "metadata": {
    "collapsed": false,
    "pycharm": {
     "name": "#%%\n"
    }
   },
   "outputs": [
    {
     "name": "stderr",
     "output_type": "stream",
     "text": [
      "C:\\Users\\Liam\\AppData\\Local\\Temp\\ipykernel_24508\\988079196.py:1: SettingWithCopyWarning: \n",
      "A value is trying to be set on a copy of a slice from a DataFrame.\n",
      "Try using .loc[row_indexer,col_indexer] = value instead\n",
      "\n",
      "See the caveats in the documentation: https://pandas.pydata.org/pandas-docs/stable/user_guide/indexing.html#returning-a-view-versus-a-copy\n",
      "  df_F['title']=df_F['fulltxt'].map(lambda b:re.findall('title: .+\\n',b)[0][7:-1])\n",
      "C:\\Users\\Liam\\AppData\\Local\\Temp\\ipykernel_24508\\988079196.py:2: SettingWithCopyWarning: \n",
      "A value is trying to be set on a copy of a slice from a DataFrame.\n",
      "Try using .loc[row_indexer,col_indexer] = value instead\n",
      "\n",
      "See the caveats in the documentation: https://pandas.pydata.org/pandas-docs/stable/user_guide/indexing.html#returning-a-view-versus-a-copy\n",
      "  df_F['group']=df_F['fulltxt'].map(lambda b:re.findall('group: .+\\n',b)[0][7:-1])\n",
      "C:\\Users\\Liam\\AppData\\Local\\Temp\\ipykernel_24508\\988079196.py:3: SettingWithCopyWarning: \n",
      "A value is trying to be set on a copy of a slice from a DataFrame.\n",
      "Try using .loc[row_indexer,col_indexer] = value instead\n",
      "\n",
      "See the caveats in the documentation: https://pandas.pydata.org/pandas-docs/stable/user_guide/indexing.html#returning-a-view-versus-a-copy\n",
      "  df_F['salesrank']=df_F['fulltxt'].map(lambda b:re.findall('salesrank: .+\\n',b)[0][11:-1])\n",
      "C:\\Users\\Liam\\AppData\\Local\\Temp\\ipykernel_24508\\988079196.py:4: SettingWithCopyWarning: \n",
      "A value is trying to be set on a copy of a slice from a DataFrame.\n",
      "Try using .loc[row_indexer,col_indexer] = value instead\n",
      "\n",
      "See the caveats in the documentation: https://pandas.pydata.org/pandas-docs/stable/user_guide/indexing.html#returning-a-view-versus-a-copy\n",
      "  df_F['similar']=df_F['fulltxt'].map(lambda b:re.findall('similar: .+\\n',b)[0][9:-1])\n",
      "C:\\Users\\Liam\\AppData\\Local\\Temp\\ipykernel_24508\\988079196.py:5: SettingWithCopyWarning: \n",
      "A value is trying to be set on a copy of a slice from a DataFrame.\n",
      "Try using .loc[row_indexer,col_indexer] = value instead\n",
      "\n",
      "See the caveats in the documentation: https://pandas.pydata.org/pandas-docs/stable/user_guide/indexing.html#returning-a-view-versus-a-copy\n",
      "  df_F['similar_id']=df_F['similar'].map(lambda b:re.findall('\\d+',b))\n",
      "C:\\Users\\Liam\\AppData\\Local\\Temp\\ipykernel_24508\\988079196.py:6: SettingWithCopyWarning: \n",
      "A value is trying to be set on a copy of a slice from a DataFrame.\n",
      "Try using .loc[row_indexer,col_indexer] = value instead\n",
      "\n",
      "See the caveats in the documentation: https://pandas.pydata.org/pandas-docs/stable/user_guide/indexing.html#returning-a-view-versus-a-copy\n",
      "  df_F['categories']=df_F['fulltxt'].map(lambda b:re.findall('categories: .+\\n',b)[0][12:-1])\n",
      "C:\\Users\\Liam\\AppData\\Local\\Temp\\ipykernel_24508\\988079196.py:7: SettingWithCopyWarning: \n",
      "A value is trying to be set on a copy of a slice from a DataFrame.\n",
      "Try using .loc[row_indexer,col_indexer] = value instead\n",
      "\n",
      "See the caveats in the documentation: https://pandas.pydata.org/pandas-docs/stable/user_guide/indexing.html#returning-a-view-versus-a-copy\n",
      "  df_F['cutomer_id']=df_F['fulltxt'].map(lambda b:[a[10:] for a in re.findall('cutomer: \\w+',b)])\n",
      "C:\\Users\\Liam\\AppData\\Local\\Temp\\ipykernel_24508\\988079196.py:19: SettingWithCopyWarning: \n",
      "A value is trying to be set on a copy of a slice from a DataFrame.\n",
      "Try using .loc[row_indexer,col_indexer] = value instead\n",
      "\n",
      "See the caveats in the documentation: https://pandas.pydata.org/pandas-docs/stable/user_guide/indexing.html#returning-a-view-versus-a-copy\n",
      "  df_F['reviews']=df_F['fulltxt'].map(lambda s:review(s))\n",
      "C:\\Users\\Liam\\AppData\\Local\\Temp\\ipykernel_24508\\988079196.py:20: SettingWithCopyWarning: \n",
      "A value is trying to be set on a copy of a slice from a DataFrame.\n",
      "Try using .loc[row_indexer,col_indexer] = value instead\n",
      "\n",
      "See the caveats in the documentation: https://pandas.pydata.org/pandas-docs/stable/user_guide/indexing.html#returning-a-view-versus-a-copy\n",
      "  df_F['reviews_total']=df_F['reviews'].map(lambda s:re.findall('total: \\d+',s)[0][7:])\n",
      "C:\\Users\\Liam\\AppData\\Local\\Temp\\ipykernel_24508\\988079196.py:21: SettingWithCopyWarning: \n",
      "A value is trying to be set on a copy of a slice from a DataFrame.\n",
      "Try using .loc[row_indexer,col_indexer] = value instead\n",
      "\n",
      "See the caveats in the documentation: https://pandas.pydata.org/pandas-docs/stable/user_guide/indexing.html#returning-a-view-versus-a-copy\n",
      "  df_F['reviews_downloaded']=df_F['reviews'].map(lambda s:re.findall('downloaded: \\d+',s)[0][12:])\n",
      "C:\\Users\\Liam\\AppData\\Local\\Temp\\ipykernel_24508\\988079196.py:22: SettingWithCopyWarning: \n",
      "A value is trying to be set on a copy of a slice from a DataFrame.\n",
      "Try using .loc[row_indexer,col_indexer] = value instead\n",
      "\n",
      "See the caveats in the documentation: https://pandas.pydata.org/pandas-docs/stable/user_guide/indexing.html#returning-a-view-versus-a-copy\n",
      "  df_F['reviews_avgrating']=df_F['reviews'].map(lambda s:re.findall('avg rating: \\d+',s)[0][12:])\n"
     ]
    }
   ],
   "source": [
    "df_F['title']=df_F['fulltxt'].map(lambda b:re.findall('title: .+\\n',b)[0][7:-1])\n",
    "df_F['group']=df_F['fulltxt'].map(lambda b:re.findall('group: .+\\n',b)[0][7:-1])\n",
    "df_F['salesrank']=df_F['fulltxt'].map(lambda b:re.findall('salesrank: .+\\n',b)[0][11:-1])\n",
    "df_F['similar']=df_F['fulltxt'].map(lambda b:re.findall('similar: .+\\n',b)[0][9:-1])\n",
    "df_F['similar_id']=df_F['similar'].map(lambda b:re.findall('\\d+',b))\n",
    "df_F['categories']=df_F['fulltxt'].map(lambda b:re.findall('categories: .+\\n',b)[0][12:-1])\n",
    "df_F['cutomer_id']=df_F['fulltxt'].map(lambda b:[a[10:] for a in re.findall('cutomer: \\w+',b)])\n",
    "\n",
    "def review(s):\n",
    "    if 'reviews' in s:\n",
    "        try:\n",
    "            reviews=re.findall('reviews: .+\\n',s)[0]\n",
    "        except:\n",
    "            reviews=re.findall('reviews: .+',s)[0]\n",
    "        return reviews\n",
    "    else:\n",
    "        return None\n",
    "\n",
    "df_F['reviews']=df_F['fulltxt'].map(lambda s:review(s))\n",
    "df_F['reviews_total']=df_F['reviews'].map(lambda s:re.findall('total: \\d+',s)[0][7:])\n",
    "df_F['reviews_downloaded']=df_F['reviews'].map(lambda s:re.findall('downloaded: \\d+',s)[0][12:])\n",
    "df_F['reviews_avgrating']=df_F['reviews'].map(lambda s:re.findall('avg rating: \\d+',s)[0][12:])\n",
    "df_F.to_csv('amazon.csv',index=False)"
   ]
  },
  {
   "cell_type": "markdown",
   "metadata": {
    "collapsed": false
   },
   "source": [
    "### get one-to-one book_customer dataframe"
   ]
  },
  {
   "cell_type": "code",
   "execution_count": 7,
   "metadata": {
    "collapsed": false,
    "pycharm": {
     "name": "#%%\n"
    }
   },
   "outputs": [
    {
     "name": "stderr",
     "output_type": "stream",
     "text": [
      "C:\\Users\\Liam\\AppData\\Local\\Temp\\ipykernel_24508\\4139850056.py:7: SettingWithCopyWarning: \n",
      "A value is trying to be set on a copy of a slice from a DataFrame.\n",
      "Try using .loc[row_indexer,col_indexer] = value instead\n",
      "\n",
      "See the caveats in the documentation: https://pandas.pydata.org/pandas-docs/stable/user_guide/indexing.html#returning-a-view-versus-a-copy\n",
      "  df_book['len_cutomer_id']=df_book['cutomer_id'].map(lambda s:len(s))\n"
     ]
    }
   ],
   "source": [
    "import pandas as pd\n",
    "import re\n",
    "\n",
    "df = pd.read_csv('amazon.csv')\n",
    "df = df[df['group']=='Book']\n",
    "df_book = df[['ASIN','cutomer_id']]\n",
    "df_book['len_cutomer_id']=df_book['cutomer_id'].map(lambda s:len(s))\n",
    "df_book=df_book[df_book.len_cutomer_id>2]"
   ]
  },
  {
   "cell_type": "code",
   "execution_count": 8,
   "metadata": {
    "collapsed": false,
    "pycharm": {
     "name": "#%%\n"
    }
   },
   "outputs": [],
   "source": [
    "def to_list(s):\n",
    "    temp=s.strip('[').rstrip(']').split(\",\")\n",
    "    temp2=[b.strip(' ').strip('\\'') for b in temp]\n",
    "    return temp2\n",
    "\n",
    "df_book['Customer_id']=df_book['cutomer_id'].map(lambda s:to_list(s))"
   ]
  },
  {
   "cell_type": "code",
   "execution_count": 9,
   "metadata": {
    "collapsed": false,
    "pycharm": {
     "name": "#%%\n"
    }
   },
   "outputs": [
    {
     "data": {
      "text/plain": [
       "(252858, 4)"
      ]
     },
     "execution_count": 9,
     "metadata": {},
     "output_type": "execute_result"
    }
   ],
   "source": [
    "df_book.shape"
   ]
  },
  {
   "cell_type": "code",
   "execution_count": 10,
   "metadata": {
    "collapsed": false,
    "pycharm": {
     "name": "#%%\n"
    }
   },
   "outputs": [
    {
     "data": {
      "text/html": [
       "<div>\n",
       "<style scoped>\n",
       "    .dataframe tbody tr th:only-of-type {\n",
       "        vertical-align: middle;\n",
       "    }\n",
       "\n",
       "    .dataframe tbody tr th {\n",
       "        vertical-align: top;\n",
       "    }\n",
       "\n",
       "    .dataframe thead th {\n",
       "        text-align: right;\n",
       "    }\n",
       "</style>\n",
       "<table border=\"1\" class=\"dataframe\">\n",
       "  <thead>\n",
       "    <tr style=\"text-align: right;\">\n",
       "      <th></th>\n",
       "      <th>ASIN</th>\n",
       "      <th>cutomer_id</th>\n",
       "      <th>len_cutomer_id</th>\n",
       "      <th>Customer_id</th>\n",
       "    </tr>\n",
       "  </thead>\n",
       "  <tbody>\n",
       "    <tr>\n",
       "      <th>0</th>\n",
       "      <td>0827229534</td>\n",
       "      <td>['2JW67OY8U6HHK', '2VE83MZF98ITY']</td>\n",
       "      <td>34</td>\n",
       "      <td>[2JW67OY8U6HHK, 2VE83MZF98ITY]</td>\n",
       "    </tr>\n",
       "    <tr>\n",
       "      <th>1</th>\n",
       "      <td>0738700797</td>\n",
       "      <td>['11NCO6YTE4BTJ', '13SG9ACZ9O5IM', '1BDAI6VEYM...</td>\n",
       "      <td>136</td>\n",
       "      <td>[11NCO6YTE4BTJ, 13SG9ACZ9O5IM, 1BDAI6VEYMAZA, ...</td>\n",
       "    </tr>\n",
       "    <tr>\n",
       "      <th>2</th>\n",
       "      <td>0486287785</td>\n",
       "      <td>['3IDGASRQAW8B2']</td>\n",
       "      <td>17</td>\n",
       "      <td>[3IDGASRQAW8B2]</td>\n",
       "    </tr>\n",
       "    <tr>\n",
       "      <th>3</th>\n",
       "      <td>0842328327</td>\n",
       "      <td>['2591BUPXCS705']</td>\n",
       "      <td>17</td>\n",
       "      <td>[2591BUPXCS705]</td>\n",
       "    </tr>\n",
       "    <tr>\n",
       "      <th>5</th>\n",
       "      <td>0486220125</td>\n",
       "      <td>['2ESGJTTLJWIAK', '2CHULHAO3A9BY', '3BNWP7ATVP...</td>\n",
       "      <td>187</td>\n",
       "      <td>[2ESGJTTLJWIAK, 2CHULHAO3A9BY, 3BNWP7ATVP045, ...</td>\n",
       "    </tr>\n",
       "  </tbody>\n",
       "</table>\n",
       "</div>"
      ],
      "text/plain": [
       "         ASIN                                         cutomer_id  \\\n",
       "0  0827229534                 ['2JW67OY8U6HHK', '2VE83MZF98ITY']   \n",
       "1  0738700797  ['11NCO6YTE4BTJ', '13SG9ACZ9O5IM', '1BDAI6VEYM...   \n",
       "2  0486287785                                  ['3IDGASRQAW8B2']   \n",
       "3  0842328327                                  ['2591BUPXCS705']   \n",
       "5  0486220125  ['2ESGJTTLJWIAK', '2CHULHAO3A9BY', '3BNWP7ATVP...   \n",
       "\n",
       "   len_cutomer_id                                        Customer_id  \n",
       "0              34                     [2JW67OY8U6HHK, 2VE83MZF98ITY]  \n",
       "1             136  [11NCO6YTE4BTJ, 13SG9ACZ9O5IM, 1BDAI6VEYMAZA, ...  \n",
       "2              17                                    [3IDGASRQAW8B2]  \n",
       "3              17                                    [2591BUPXCS705]  \n",
       "5             187  [2ESGJTTLJWIAK, 2CHULHAO3A9BY, 3BNWP7ATVP045, ...  "
      ]
     },
     "execution_count": 10,
     "metadata": {},
     "output_type": "execute_result"
    }
   ],
   "source": [
    "df_book.head()"
   ]
  },
  {
   "cell_type": "code",
   "execution_count": 11,
   "metadata": {
    "collapsed": false,
    "pycharm": {
     "name": "#%%\n"
    }
   },
   "outputs": [
    {
     "data": {
      "text/html": [
       "<div>\n",
       "<style scoped>\n",
       "    .dataframe tbody tr th:only-of-type {\n",
       "        vertical-align: middle;\n",
       "    }\n",
       "\n",
       "    .dataframe tbody tr th {\n",
       "        vertical-align: top;\n",
       "    }\n",
       "\n",
       "    .dataframe thead th {\n",
       "        text-align: right;\n",
       "    }\n",
       "</style>\n",
       "<table border=\"1\" class=\"dataframe\">\n",
       "  <thead>\n",
       "    <tr style=\"text-align: right;\">\n",
       "      <th></th>\n",
       "      <th>ASIN</th>\n",
       "      <th>Customer_id</th>\n",
       "      <th>len_Customer_id</th>\n",
       "      <th>Book_id_l</th>\n",
       "      <th>book_id_customer</th>\n",
       "    </tr>\n",
       "  </thead>\n",
       "  <tbody>\n",
       "    <tr>\n",
       "      <th>507252</th>\n",
       "      <td>0764550101</td>\n",
       "      <td>[3QOHWZDID9ZM9, 2P84ZRRE2ZL7D, 19DJ2XEAUOZHT, ...</td>\n",
       "      <td>12</td>\n",
       "      <td>[0764550101]</td>\n",
       "      <td>[0764550101, 0764550101, 0764550101, 076455010...</td>\n",
       "    </tr>\n",
       "    <tr>\n",
       "      <th>57865</th>\n",
       "      <td>0374525285</td>\n",
       "      <td>[17E7K3MQ5KKR5, 3C8HK3OWP3Y90, 1OL4KPWG2794I, ...</td>\n",
       "      <td>35</td>\n",
       "      <td>[0374525285]</td>\n",
       "      <td>[0374525285, 0374525285, 0374525285, 037452528...</td>\n",
       "    </tr>\n",
       "    <tr>\n",
       "      <th>534898</th>\n",
       "      <td>0253214084</td>\n",
       "      <td>[2Q3S31MCOBH7D]</td>\n",
       "      <td>1</td>\n",
       "      <td>[0253214084]</td>\n",
       "      <td>[0253214084]</td>\n",
       "    </tr>\n",
       "    <tr>\n",
       "      <th>226484</th>\n",
       "      <td>0399235841</td>\n",
       "      <td>[2NJO6YE954DBH]</td>\n",
       "      <td>1</td>\n",
       "      <td>[0399235841]</td>\n",
       "      <td>[0399235841]</td>\n",
       "    </tr>\n",
       "    <tr>\n",
       "      <th>205780</th>\n",
       "      <td>0028629426</td>\n",
       "      <td>[3L4WQ3V2R12MI, 20EEWWSFMZ1PN, 2FOIHXARTRQ47]</td>\n",
       "      <td>3</td>\n",
       "      <td>[0028629426]</td>\n",
       "      <td>[0028629426, 0028629426, 0028629426]</td>\n",
       "    </tr>\n",
       "  </tbody>\n",
       "</table>\n",
       "</div>"
      ],
      "text/plain": [
       "              ASIN                                        Customer_id  \\\n",
       "507252  0764550101  [3QOHWZDID9ZM9, 2P84ZRRE2ZL7D, 19DJ2XEAUOZHT, ...   \n",
       "57865   0374525285  [17E7K3MQ5KKR5, 3C8HK3OWP3Y90, 1OL4KPWG2794I, ...   \n",
       "534898  0253214084                                    [2Q3S31MCOBH7D]   \n",
       "226484  0399235841                                    [2NJO6YE954DBH]   \n",
       "205780  0028629426      [3L4WQ3V2R12MI, 20EEWWSFMZ1PN, 2FOIHXARTRQ47]   \n",
       "\n",
       "        len_Customer_id     Book_id_l  \\\n",
       "507252               12  [0764550101]   \n",
       "57865                35  [0374525285]   \n",
       "534898                1  [0253214084]   \n",
       "226484                1  [0399235841]   \n",
       "205780                3  [0028629426]   \n",
       "\n",
       "                                         book_id_customer  \n",
       "507252  [0764550101, 0764550101, 0764550101, 076455010...  \n",
       "57865   [0374525285, 0374525285, 0374525285, 037452528...  \n",
       "534898                                       [0253214084]  \n",
       "226484                                       [0399235841]  \n",
       "205780               [0028629426, 0028629426, 0028629426]  "
      ]
     },
     "execution_count": 11,
     "metadata": {},
     "output_type": "execute_result"
    }
   ],
   "source": [
    "df_sub=df_book.sample(n=10000, random_state=2)\n",
    "df_sub=df_sub[['ASIN','Customer_id']]\n",
    "df_sub['len_Customer_id']=df_sub['Customer_id'].map(lambda s:len(s))\n",
    "df_sub['Book_id_l']=df_sub['ASIN'].map(lambda s:[s])\n",
    "df_sub['book_id_customer']=df_sub['Book_id_l']*df_sub['len_Customer_id']\n",
    "df_sub.head()"
   ]
  },
  {
   "cell_type": "code",
   "execution_count": 12,
   "metadata": {
    "collapsed": false,
    "pycharm": {
     "name": "#%%\n"
    }
   },
   "outputs": [],
   "source": [
    "df_customer=pd.DataFrame([pd.Series(df_sub['book_id_customer'].sum()),pd.Series(df_sub['Customer_id'].sum())]).T\n",
    "df_customer.columns=['Book_id','Customer_id']\n",
    "df_customer.head()\n",
    "df_customer.to_csv('df_customer.csv',index=False)"
   ]
  },
  {
   "cell_type": "markdown",
   "metadata": {
    "collapsed": false
   },
   "source": [
    "## Part II: Analysis"
   ]
  },
  {
   "cell_type": "code",
   "execution_count": 13,
   "metadata": {
    "collapsed": false,
    "pycharm": {
     "name": "#%%\n"
    }
   },
   "outputs": [],
   "source": [
    "import pandas as pd\n",
    "\n",
    "df_customer=pd.read_csv('df_customer.csv')\n",
    "df_customer.drop_duplicates(inplace=True)"
   ]
  },
  {
   "cell_type": "code",
   "execution_count": 14,
   "metadata": {
    "collapsed": false,
    "pycharm": {
     "name": "#%%\n"
    }
   },
   "outputs": [
    {
     "data": {
      "text/html": [
       "<div>\n",
       "<style scoped>\n",
       "    .dataframe tbody tr th:only-of-type {\n",
       "        vertical-align: middle;\n",
       "    }\n",
       "\n",
       "    .dataframe tbody tr th {\n",
       "        vertical-align: top;\n",
       "    }\n",
       "\n",
       "    .dataframe thead th {\n",
       "        text-align: right;\n",
       "    }\n",
       "</style>\n",
       "<table border=\"1\" class=\"dataframe\">\n",
       "  <thead>\n",
       "    <tr style=\"text-align: right;\">\n",
       "      <th></th>\n",
       "      <th>Book_id</th>\n",
       "      <th>Customer_id</th>\n",
       "    </tr>\n",
       "  </thead>\n",
       "  <tbody>\n",
       "    <tr>\n",
       "      <th>0</th>\n",
       "      <td>0439064872</td>\n",
       "      <td>3QVAKVRAH657N</td>\n",
       "    </tr>\n",
       "    <tr>\n",
       "      <th>1</th>\n",
       "      <td>0439064872</td>\n",
       "      <td>30KEXFT9SILL6</td>\n",
       "    </tr>\n",
       "    <tr>\n",
       "      <th>2</th>\n",
       "      <td>0439064872</td>\n",
       "      <td>3KF4IP2MUS8QQ</td>\n",
       "    </tr>\n",
       "    <tr>\n",
       "      <th>3</th>\n",
       "      <td>0439064872</td>\n",
       "      <td>2F3M93RRLFQNJ</td>\n",
       "    </tr>\n",
       "    <tr>\n",
       "      <th>4</th>\n",
       "      <td>0439064872</td>\n",
       "      <td>1IU7S4HCK1XK0</td>\n",
       "    </tr>\n",
       "  </tbody>\n",
       "</table>\n",
       "</div>"
      ],
      "text/plain": [
       "      Book_id    Customer_id\n",
       "0  0439064872  3QVAKVRAH657N\n",
       "1  0439064872  30KEXFT9SILL6\n",
       "2  0439064872  3KF4IP2MUS8QQ\n",
       "3  0439064872  2F3M93RRLFQNJ\n",
       "4  0439064872  1IU7S4HCK1XK0"
      ]
     },
     "execution_count": 14,
     "metadata": {},
     "output_type": "execute_result"
    }
   ],
   "source": [
    "Customer_count=df_customer.Customer_id.value_counts()[1:]\n",
    "sub=list(Customer_count[Customer_count>3].index)\n",
    "df_sub=df_customer.set_index('Customer_id')\n",
    "df_sub=df_sub.loc[sub]\n",
    "df_sub=df_sub.reset_index()\n",
    "Book_count=df_sub.Book_id.value_counts()\n",
    "sub=list(Book_count[Book_count>3].index)\n",
    "df_sub=df_sub.set_index('Book_id')\n",
    "df_sub=df_sub.loc[sub]\n",
    "df_sub=df_sub.reset_index()\n",
    "df_sub.head()"
   ]
  },
  {
   "cell_type": "code",
   "execution_count": 15,
   "metadata": {
    "collapsed": false,
    "pycharm": {
     "name": "#%%\n"
    }
   },
   "outputs": [
    {
     "data": {
      "text/plain": [
       "(1053, 2415)"
      ]
     },
     "execution_count": 15,
     "metadata": {},
     "output_type": "execute_result"
    }
   ],
   "source": [
    "# Book_Customer matrix\n",
    "df_crosstab=pd.crosstab(df_sub['Book_id'], df_sub['Customer_id'])\n",
    "df_crosstab.shape"
   ]
  },
  {
   "cell_type": "markdown",
   "metadata": {
    "collapsed": false
   },
   "source": [
    "### bipartite analysis"
   ]
  },
  {
   "cell_type": "code",
   "execution_count": 16,
   "metadata": {
    "collapsed": false,
    "pycharm": {
     "name": "#%%\n"
    }
   },
   "outputs": [],
   "source": [
    "import networkx as nx\n",
    "from networkx.algorithms import bipartite\n",
    "import matplotlib.pyplot as plt"
   ]
  },
  {
   "cell_type": "code",
   "execution_count": 17,
   "metadata": {
    "collapsed": false,
    "pycharm": {
     "name": "#%%\n"
    }
   },
   "outputs": [
    {
     "data": {
      "image/png": "[encoded data removed]",
      "text/plain": [
       "<Figure size 432x288 with 1 Axes>"
      ]
     },
     "metadata": {},
     "output_type": "display_data"
    }
   ],
   "source": [
    "# Book_Customer\n",
    "B = nx.Graph()\n",
    "B.add_nodes_from(df_sub['Book_id'], bipartite=0)\n",
    "B.add_nodes_from(df_sub['Customer_id'], bipartite=1)\n",
    "B.add_edges_from([(row['Customer_id'], row['Book_id']) for idx, row in df_sub.iterrows()])\n",
    "\n",
    "pos = {node:[0, i] for i,node in enumerate(df_sub['Customer_id'])}\n",
    "pos.update({node:[1, i] for i,node in enumerate(df_sub['Book_id'])})\n",
    "nx.draw(B, pos, with_labels=False,node_size=10)\n",
    "\n",
    "bottom_nodes, top_nodes = bipartite.sets(B)"
   ]
  },
  {
   "cell_type": "code",
   "execution_count": 18,
   "metadata": {
    "collapsed": false,
    "pycharm": {
     "name": "#%%\n"
    }
   },
   "outputs": [
    {
     "name": "stderr",
     "output_type": "stream",
     "text": [
      "C:\\Users\\Liam\\AppData\\Local\\Temp\\ipykernel_24508\\770005836.py:1: DeprecationWarning: info is deprecated and will be removed in version 3.0.\n",
      "\n",
      "  nx.info(B)\n"
     ]
    },
    {
     "data": {
      "text/plain": [
       "'Graph with 3468 nodes and 14299 edges'"
      ]
     },
     "execution_count": 18,
     "metadata": {},
     "output_type": "execute_result"
    }
   ],
   "source": [
    "nx.info(B)"
   ]
  },
  {
   "cell_type": "code",
   "execution_count": 19,
   "metadata": {
    "collapsed": false,
    "pycharm": {
     "name": "#%%\n"
    }
   },
   "outputs": [
    {
     "data": {
      "text/plain": [
       "{'0439064872': 0.012041641341373753,\n",
       " '0439136350': 0.012112475990947011,\n",
       " '0399144463': 0.012825063735768171,\n",
       " '0970565100': 0.013012571869146294,\n",
       " '0375400117': 0.013183321169900194,\n",
       " '1410400441': 0.021483724184183102,\n",
       " '0553713108': 0.0214837241841831,\n",
       " '0399148701': 0.0214837241841831,\n",
       " '0739302213': 0.01822600673864737,\n",
       " '0452282152': 0.01636412963987162,\n",
       " '0743504739': 0.015518337517982114,\n",
       " '0375415823': 0.017937726862986312,\n",
       " '0375430695': 0.0179377268629863,\n",
       " '044023722X': 0.016901621327722948,\n",
       " '0553528912': 0.020858630210252645,\n",
       " '0312421273': 0.01618550564242515,\n",
       " '1575111136': 0.018659630980129616,\n",
       " '0694524646': 0.02286174845264297,\n",
       " '0380973650': 0.017079632955610324,\n",
       " '0842354204': 0.017596039787051664,\n",
       " '0694525332': 0.01862224381518631,\n",
       " '0060512806': 0.02069080353259925,\n",
       " '0380973464': 0.02069080353259925,\n",
       " '0684833395': 0.018093241554095404,\n",
       " '0743417682': 0.021513404615146486,\n",
       " '0345413350': 0.017959084898798636,\n",
       " '0446605484': 0.02536495051227427,\n",
       " '0316316962': 0.01981904906422098,\n",
       " '0312980140': 0.023899880912166917,\n",
       " '0694522430': 0.019137573134085012,\n",
       " '0195144201': 0.01827535518770559,\n",
       " '037540872X': 0.021115766367846348,\n",
       " '0783891520': 0.022886955048718936,\n",
       " '074322454X': 0.022886955048718936,\n",
       " '1929494157': 0.02175140648456329,\n",
       " '0425170349': 0.021499553184792405,\n",
       " '0140434267': 0.02109324363020624,\n",
       " '0618101365': 0.022276825931020306,\n",
       " '1565114485': 0.021911415885102137,\n",
       " '0449213943': 0.02444557670350701,\n",
       " '0835910601': 0.024445576703507006,\n",
       " '0316160466': 0.03088200283634031,\n",
       " '0375705856': 0.02471064924016004,\n",
       " '0671027034': 0.024278881198512944,\n",
       " '0345449347': 0.022197198202127944,\n",
       " '1570429723': 0.031185358599228972,\n",
       " '158621280X': 0.028238632896626405,\n",
       " '074351839X': 0.025351115247542813,\n",
       " '0446611778': 0.029052587243678353,\n",
       " '0684837889': 0.023122784835105246,\n",
       " '0375416854': 0.030692478890851364,\n",
       " '0671045555': 0.021753821090090462,\n",
       " '087891014X': 0.02500774373934919,\n",
       " '037541309X': 0.023890125898647665,\n",
       " '0811825558': 0.023668995404308925,\n",
       " '0060093668': 0.023788140627006734,\n",
       " '039914515X': 0.025777960219098554,\n",
       " '0613171373': 0.02205310961600799,\n",
       " '0345008634': 0.024049576941728785,\n",
       " '0192833952': 0.023745993614938354,\n",
       " '0375416528': 0.024859636458767823,\n",
       " '0060196246': 0.03593163836818074,\n",
       " '0694524069': 0.03593163836818073,\n",
       " '0448060310': 0.02615924874974524,\n",
       " '0140434895': 0.02985639606611094,\n",
       " '0446606189': 0.02788573673295872,\n",
       " '0788731246': 0.027322751870162504,\n",
       " '1590770021': 0.021599369366139192,\n",
       " '0192545116': 0.029856396066110943,\n",
       " '0764585061': 0.027029106964024628,\n",
       " '0375415661': 0.02735912206092746,\n",
       " '0060528370': 0.021757467487180722,\n",
       " '0553502719': 0.03025998376532392,\n",
       " '0743507835': 0.0246420501814075,\n",
       " '0375705198': 0.02965476191011466,\n",
       " '0679783202': 0.028491367113092646,\n",
       " '0394573188': 0.027175526164214526,\n",
       " '0871292203': 0.029945512684755853,\n",
       " '0316603287': 0.03266604076687398,\n",
       " '0399147586': 0.030113940123367298,\n",
       " '0142800090': 0.03741054678030255,\n",
       " '0684841185': 0.030149841105247096,\n",
       " '0807014265': 0.024924038367455128,\n",
       " '0743221990': 0.03822772255493238,\n",
       " '089845865X': 0.030440768371492056,\n",
       " '0743524675': 0.029880243443257595,\n",
       " '0679455612': 0.02760459095615278,\n",
       " '1560542586': 0.025252024081101086,\n",
       " '1587884909': 0.03010539756282745,\n",
       " '0786868015': 0.026512123649290963,\n",
       " '0451524497': 0.028634696087921133,\n",
       " '1561796255': 0.02577067716303206,\n",
       " '0399149864': 0.025248170710484623,\n",
       " '0446611808': 0.03771137736960695,\n",
       " '0385418493': 0.024054623624571794,\n",
       " '0060930187': 0.024086078676513398,\n",
       " '1402535996': 0.02952021792146759,\n",
       " '086140324X': 0.02895287119404397,\n",
       " '0966621336': 0.02573686674707735,\n",
       " '0446529869': 0.031005538315793696,\n",
       " '0553801279': 0.032341807172993634,\n",
       " '0783895445': 0.030244992252428035,\n",
       " '0553528211': 0.032341807172993634,\n",
       " '084233226X': 0.02926903174779516,\n",
       " '0064407683': 0.03172967937853843,\n",
       " '0553528394': 0.028094163590580246,\n",
       " '1574534106': 0.02739107083799909,\n",
       " '0425152251': 0.026955488313951337,\n",
       " '0441008534': 0.026742750613725295,\n",
       " '0399148515': 0.04228467442712103,\n",
       " '0553580515': 0.029334842163079224,\n",
       " '0802839282': 0.03642193854433395,\n",
       " '0451527801': 0.03642193854433394,\n",
       " '006621405X': 0.04607329882251899,\n",
       " '0375408215': 0.029946548985076014,\n",
       " '0156528207': 0.03164510603870206,\n",
       " '0736629688': 0.02989226292802885,\n",
       " 'B00007MF5A': 0.03377010390094173,\n",
       " '0553247778': 0.03094962649335826,\n",
       " '1570421102': 0.042938586727761525,\n",
       " '0375756450': 0.026448541138894093,\n",
       " '389508462X': 0.031697230834552025,\n",
       " '0375400524': 0.026909185762790975,\n",
       " '068480123X': 0.04333263535631519,\n",
       " '0808519220': 0.02865863542480951,\n",
       " '0743217179': 0.04418605097072022,\n",
       " '0816718601': 0.031933210799034335,\n",
       " '0375724672': 0.03135593541202633,\n",
       " '0385302312': 0.03280775916822156,\n",
       " '0671660748': 0.030384119076254792,\n",
       " '1565113934': 0.03424862008286448,\n",
       " '0679886370': 0.03658991714731537,\n",
       " '1565115244': 0.028782409455961316,\n",
       " '0525944834': 0.06456242647176587,\n",
       " '0375707425': 0.03653104605092095,\n",
       " '0446607177': 0.03185400898466891,\n",
       " '034538475X': 0.03331015392350458,\n",
       " '0679642811': 0.032533665806378176,\n",
       " '0151191549': 0.031011616235124485,\n",
       " '0060393203': 0.03534374953446284,\n",
       " '081257639X': 0.03161333994230467,\n",
       " '0786808551': 0.0318125179055433,\n",
       " '0060194979': 0.029543877615066147,\n",
       " '0613371437': 0.030532161972265014,\n",
       " '0375419446': 0.029982876158827408,\n",
       " '0380812525': 0.04764200072610221,\n",
       " '0694523410': 0.039060445885226266,\n",
       " '0312973055': 0.03519568488414709,\n",
       " '0679418008': 0.0326953154661691,\n",
       " '0394585852': 0.03388587991428057,\n",
       " '0684810271': 0.03260266255630168,\n",
       " '0822007126': 0.028261045733768753,\n",
       " '0312854277': 0.033605433623576784,\n",
       " '0786865644': 0.039155325936744485,\n",
       " '0805065415': 0.03544666918404793,\n",
       " '073660345X': 0.03185884788933943,\n",
       " '0684865475': 0.03177983385221822,\n",
       " '0345453417': 0.04466390396560325,\n",
       " '0670272663': 0.029831785125343433,\n",
       " '0399149392': 0.03881261388773832,\n",
       " '1931056978': 0.028524385624295007,\n",
       " '0684865424': 0.04020479085390059,\n",
       " '0613185048': 0.035698427432042955,\n",
       " '067169507X': 0.03965215104793695,\n",
       " '0807261505': 0.043272887558212667,\n",
       " '014180307X': 0.0449770472405543,\n",
       " '0618055819': 0.043272887558212667,\n",
       " '0140430172': 0.036037896666686504,\n",
       " '1572700920': 0.03547280694620243,\n",
       " '0553714880': 0.050321972184908914,\n",
       " '0385488440': 0.037609160202114314,\n",
       " '0451204298': 0.03838099574381489,\n",
       " '080720711X': 0.04452424804956656,\n",
       " '0553565699': 0.034791427985332087,\n",
       " '0142002623': 0.03594332197646218,\n",
       " '0804114609': 0.03778891431942959,\n",
       " '1573222259': 0.032824653862336496,\n",
       " '014043531X': 0.03928049209657898,\n",
       " '0451522907': 0.03928049209657899,\n",
       " '0671043242': 0.03372133507316062,\n",
       " '0312313195': 0.04032615953471892,\n",
       " '014043786X': 0.040027523930236,\n",
       " '0399128298': 0.036005358311152896,\n",
       " '0385335997': 0.03929257051006639,\n",
       " '0440235391': 0.04647265109328992,\n",
       " '0385334338': 0.04647265109328992,\n",
       " '0060393408': 0.03304686669697506,\n",
       " '0679405860': 0.03580344769501782,\n",
       " '073930206X': 0.038419224932980535,\n",
       " '0812513754': 0.03791901870978018,\n",
       " '0689845367': 0.04025533861368895,\n",
       " '0312857063': 0.03221210218259011,\n",
       " '0345428447': 0.04189760515794125,\n",
       " '1559277793': 0.0373207583727275,\n",
       " '0679748407': 0.03364491301655044,\n",
       " '0679428194': 0.037113911163697604,\n",
       " '0399234667': 0.031367101072377876,\n",
       " '0060938099': 0.0396202002357623,\n",
       " '0486411567': 0.04136336096242884,\n",
       " '140004684X': 0.033214199876933984,\n",
       " '1580084168': 0.033220475987095786,\n",
       " '0060234881': 0.04228688369186873,\n",
       " '0060195339': 0.03582907383906907,\n",
       " '157322202X': 0.03623885924490479,\n",
       " '0446674362': 0.035366107174792626,\n",
       " '044022103X': 0.03478562721161265,\n",
       " '0142000698': 0.03630191380209119,\n",
       " '0060083247': 0.05421307549766463,\n",
       " '0060527161': 0.03657614155412796,\n",
       " '082494173X': 0.03420939462253211,\n",
       " '0553286447': 0.04139156355217735,\n",
       " '0865545847': 0.03836065888742927,\n",
       " '0807205834': 0.07356634597591234,\n",
       " '0743524802': 0.05211034445528523,\n",
       " '0452269571': 0.03789935873249415,\n",
       " '0553451324': 0.03754882428160373,\n",
       " '0671516884': 0.03408154273255338,\n",
       " '0380973545': 0.030318761650945915,\n",
       " '0843944463': 0.049177167293319,\n",
       " '0887308589': 0.044188395935445185,\n",
       " '0679723250': 0.03706799389755066,\n",
       " '0694515922': 0.04074533180271436,\n",
       " '0312963009': 0.03602956956119809,\n",
       " '0312242646': 0.04085982136719261,\n",
       " '0553571885': 0.04485763749518133,\n",
       " '0449227545': 0.038255932564384185,\n",
       " '0446532320': 0.04064150599857384,\n",
       " '0066211611': 0.03694645670450484,\n",
       " '0679448950': 0.03836294165433725,\n",
       " '0060916540': 0.03318620633919059,\n",
       " '0345353730': 0.03787717036785071,\n",
       " '0684870185': 0.03339668727103608,\n",
       " '0887307876': 0.044188395935445185,\n",
       " '0452282128': 0.0413287101230006,\n",
       " '0553479377': 0.04537394086430753,\n",
       " '0553288733': 0.04352113915269409,\n",
       " '0152229000': 0.0451334979106383,\n",
       " '0786707720': 0.034098979970920665,\n",
       " '1878574590': 0.04160874130307879,\n",
       " '3895080977': 0.03703851520299784,\n",
       " '0786241071': 0.04919189555937999,\n",
       " '0060392983': 0.03351991439524222,\n",
       " '0684852217': 0.03552579398539673,\n",
       " '0375401601': 0.034274990298498224,\n",
       " '0786243473': 0.054905083105398426,\n",
       " '1895565669': 0.03859504710319566,\n",
       " '0345440765': 0.04379305815201306,\n",
       " '0060193506': 0.036810265417615,\n",
       " '0743201647': 0.04963003222710449,\n",
       " '0783803788': 0.032491898049406706,\n",
       " '0453008917': 0.03782545036503391,\n",
       " '0805425500': 0.042559887868903426,\n",
       " '0787114715': 0.04186549504168044,\n",
       " '0449219364': 0.06537621309145207,\n",
       " '0679722025': 0.04036802072390956,\n",
       " '0671791273': 0.048321118175343916,\n",
       " '0440234859': 0.042465421414439555,\n",
       " '0449221504': 0.06170951928510375,\n",
       " '0374525285': 0.04767453195997874,\n",
       " '0345423461': 0.044950995393284114,\n",
       " '0743436121': 0.03993022691623673,\n",
       " '0451207645': 0.04435207116571689,\n",
       " '0609610252': 0.039398070839565806,\n",
       " '0671553046': 0.048097606842231466,\n",
       " '0743202708': 0.04431302550743589,\n",
       " '0440218802': 0.028330425967046304,\n",
       " '0446530077': 0.03899342363124018,\n",
       " '1402508611': 0.0542296900895729,\n",
       " '0786191961': 0.04181735675454974,\n",
       " '0958578346': 0.04219259244259766,\n",
       " '9626341629': 0.043276099148829836,\n",
       " '0061020664': 0.04386810076707571,\n",
       " '0399148469': 0.0542296900895729,\n",
       " '0553712683': 0.04488544292517963,\n",
       " '0375411151': 0.04273362172205196,\n",
       " '0671731424': 0.037228049301342644,\n",
       " '087584877X': 0.04603311573937436,\n",
       " '0374105804': 0.04916810174725756,\n",
       " '0767905342': 0.041048996657160844,\n",
       " '0192833642': 0.04294302928870908,\n",
       " '0312261845': 0.036509180059210784,\n",
       " '0808598643': 0.0401106497860725,\n",
       " '1577658108': 0.04279473287477259,\n",
       " '034543739X': 0.04688171556220294,\n",
       " '0805053085': 0.047185031565700274,\n",
       " '9626342188': 0.0471183301046479,\n",
       " '055352495X': 0.05312415069606261,\n",
       " '0440235464': 0.0388426419700834,\n",
       " '0316921173': 0.03861667925618888,\n",
       " '0553712004': 0.05878468910572678,\n",
       " '1402536321': 0.03669571345574243,\n",
       " '0767908473': 0.04706635711142833,\n",
       " '0345397673': 0.03873644496586563,\n",
       " '0786218398': 0.04264037507836775,\n",
       " '0553211927': 0.042856902963262146,\n",
       " '044023574X': 0.051122320367686304,\n",
       " '0792799429': 0.04992538576927749,\n",
       " '0345435796': 0.03904835962279155,\n",
       " '0449223604': 0.06505151834292014,\n",
       " '0393020363': 0.03638009382979447,\n",
       " '0345463838': 0.04939695913215281,\n",
       " '0345434803': 0.044223575771518,\n",
       " '0151001812': 0.040840450323797364,\n",
       " '0812566629': 0.04766657545795354,\n",
       " '0141181265': 0.04103915679072939,\n",
       " '0451409450': 0.0372261093473548,\n",
       " '0684865637': 0.04329450171120246,\n",
       " '0131103709': 0.03936613777633602,\n",
       " '0802713610': 0.04521397497327099,\n",
       " '0446608971': 0.04232471853913739,\n",
       " '0786230258': 0.04914405917926974,\n",
       " '0312199430': 0.04516990231394563,\n",
       " '0743509021': 0.04681235872897829,\n",
       " '0670175919': 0.050069297059905905,\n",
       " '067940354X': 0.06226179415547765,\n",
       " '0743520335': 0.051400190603685496,\n",
       " '0440224624': 0.03813231418035278,\n",
       " '0140283315': 0.04740543873436707,\n",
       " '0449910237': 0.0417267375506696,\n",
       " '1586480499': 0.04388722105555095,\n",
       " '034542865X': 0.05583414384318357,\n",
       " '0808522035': 0.04506782897575396,\n",
       " '0460876643': 0.053393825862250256,\n",
       " '0375405488': 0.053393825862250235,\n",
       " '0316779423': 0.044792704422376976,\n",
       " '052594673X': 0.044911406851764146,\n",
       " '0807215619': 0.06373760878148266,\n",
       " '0671787985': 0.09274194383733513,\n",
       " '0767904656': 0.03709713016459164,\n",
       " '0140156046': 0.03675729975470026,\n",
       " '0805066349': 0.03554728112300134,\n",
       " '0743249976': 0.08989760111888902,\n",
       " '0446527920': 0.1274459964862842,\n",
       " '0156006219': 0.031079946529049034,\n",
       " '1576834166': 0.03706368810912776,\n",
       " '0671795538': 0.060913843838629377,\n",
       " '188207193X': 0.05057356020225327,\n",
       " '0440223768': 0.12307224862571879,\n",
       " '0786866039': 0.052199562937185695,\n",
       " '0449149676': 0.04030264472754859,\n",
       " '0393307611': 0.04460807471304458,\n",
       " '0684814889': 0.04291907109558443,\n",
       " '0312253397': 0.04266202100339184,\n",
       " '0671618601': 0.053501253089982374,\n",
       " '0842361715': 0.04835277658677823,\n",
       " '0671019716': 0.05572264702894,\n",
       " '0515131741': 0.053674544331593216,\n",
       " '1853262641': 0.056875241593921835,\n",
       " '0140257934': 0.04059089174677366,\n",
       " '1587884984': 0.04689395947516642,\n",
       " '0192834185': 0.04365188206460921,\n",
       " '1565113659': 0.04180227004467797,\n",
       " '0684840022': 0.048488414041199704,\n",
       " '0671043781': 0.04598546970423062,\n",
       " '1579120148': 0.04057517867239822,\n",
       " '0808522450': 0.04638180380918822,\n",
       " '0449211584': 0.03710395772913612,\n",
       " '0140088911': 0.04221155020751986,\n",
       " '0060198753': 0.052940823177180435,\n",
       " '0375757910': 0.06910127793855775,\n",
       " '0899684955': 0.06910127793855772,\n",
       " '0446527858': 0.04997713385801347,\n",
       " '0312890176': 0.0389009215199182,\n",
       " '0375417192': 0.06262456879775008,\n",
       " '1576751988': 0.060968075777336934,\n",
       " '0517203030': 0.06810287827163736,\n",
       " '0679450424': 0.04417939157601844,\n",
       " '1551666189': 0.05347804483693615,\n",
       " '0824941608': 0.06810287827163736,\n",
       " '0842336443': 0.04841928633526855,\n",
       " '1573228737': 0.045602159800748616,\n",
       " '0385335466': 0.059242234812209214,\n",
       " '0425171078': 0.06273684113944289,\n",
       " '0380756293': 0.06446132475333874,\n",
       " '0812504755': 0.06810287827163736,\n",
       " '0521294088': 0.06525397883773491,\n",
       " '0060192410': 0.0587378474279293,\n",
       " '0451525043': 0.044639229109789964,\n",
       " '006051146X': 0.0422140049773039,\n",
       " '0553502115': 0.04925381387139501,\n",
       " '0679420355': 0.04643820924667163,\n",
       " '0198319711': 0.06525397883773491,\n",
       " '0345428706': 0.06044778253292951,\n",
       " '1565921496': 0.049024286415278735,\n",
       " '0553502611': 0.054898203991207,\n",
       " '0375760911': 0.039940969461402145,\n",
       " '0802713734': 0.04231592675715687,\n",
       " '0446674168': 0.04856308767393117,\n",
       " '0879516283': 0.04613506013754274,\n",
       " '0345438310': 0.04077746420115336,\n",
       " '0385334540': 0.03972087879270093,\n",
       " '061339450X': 0.06740286598648529,\n",
       " '0743417208': 0.03605172414134073,\n",
       " '0689710682': 0.0554441915943208,\n",
       " '0781805503': 0.048208378693043126,\n",
       " '0671046179': 0.03623803296018155,\n",
       " '0380703475': 0.038074939808434564,\n",
       " '1559947608': 0.04616320682964982,\n",
       " '0802139396': 0.05291420833913432,\n",
       " '0345358791': 0.047571833721298314,\n",
       " '0684852683': 0.052541803380879944,\n",
       " '0618154051': 0.055836457517998386,\n",
       " '0671727699': 0.05944744026380277,\n",
       " '0140345353': 0.05792221888529076,\n",
       " '0694525324': 0.05097403730711647,\n",
       " '0786886161': 0.055325372841138795,\n",
       " '0061054267': 0.05948408361213435,\n",
       " '0375407707': 0.04287495503894881,\n",
       " '0060194243': 0.043489154133680735,\n",
       " '1556851693': 0.04424015025158583,\n",
       " '0553272500': 0.04690525737183675,\n",
       " '0679731210': 0.043812447185322484,\n",
       " '0671877437': 0.044296255087668615,\n",
       " '0786867655': 0.04118404541287906,\n",
       " '0671778633': 0.057775928808309174,\n",
       " '0811908399': 0.04723919159265129,\n",
       " '1565926226': 0.05580719168716137,\n",
       " '0679450785': 0.052076156481453834,\n",
       " '0785799427': 0.03950516903494348,\n",
       " '0152017984': 0.05638767693394541,\n",
       " '0061008737': 0.045892234770105705,\n",
       " '0380732335': 0.04033498343389317,\n",
       " '0375431500': 0.06448412828715655,\n",
       " '1566631025': 0.039747830569641054,\n",
       " '006095373X': 0.04258971641108108,\n",
       " '0886463556': 0.05944744026380274,\n",
       " '0505524384': 0.07455812986730286,\n",
       " '0679725733': 0.04728400570718142,\n",
       " '0062508113': 0.04897236444097358,\n",
       " '0553455745': 0.05683933493814051,\n",
       " '0446354732': 0.04496610212038618,\n",
       " '1410400840': 0.051560275413412925,\n",
       " '0786708239': 0.04042503250165296,\n",
       " '0375703470': 0.041248982929923954,\n",
       " '1570629692': 0.04604428286163557,\n",
       " '1590071646': 0.045832044730197925,\n",
       " '0440224659': 0.046055460040337066,\n",
       " '1559273623': 0.04925155917051675,\n",
       " '0312874278': 0.0477177004898993,\n",
       " '0590360809': 0.04031529716076886,\n",
       " '0380793806': 0.05422703584642586,\n",
       " '0394758250': 0.05174873560641315,\n",
       " '9626340673': 0.04588054657815524,\n",
       " '0553575643': 0.05129864241451759,\n",
       " '0970010281': 0.12064870805892237,\n",
       " '0671042203': 0.09070948583987411,\n",
       " '0684814811': 0.060351246994528256,\n",
       " '0374528667': 0.05138688417623089,\n",
       " '0743528301': 0.036807745441507576,\n",
       " '0060082194': 0.04721297642148531,\n",
       " '0440235081': 0.05210681071461099,\n",
       " '0060515910': 0.05187370814867272,\n",
       " '0805006621': 0.05365443947216499,\n",
       " '0451526880': 0.05741877773983947,\n",
       " '0192833944': 0.05043783663750191,\n",
       " '078610287X': 0.042332749155300504,\n",
       " '0761516808': 0.05041322236696482,\n",
       " '0881036560': 0.04750260080703988,\n",
       " '0843946229': 0.0729794255537908,\n",
       " '0471592242': 0.05812993727530987,\n",
       " '0613074637': 0.07168821701955375,\n",
       " '0152026592': 0.07645192064012728,\n",
       " '0671695347': 0.05206134985266238,\n",
       " '068485080X': 0.043473011594760164,\n",
       " '0393092194': 0.04345925124589375,\n",
       " '0385318375': 0.04537283816020624,\n",
       " '0515119784': 0.057605965583967196,\n",
       " '0380795124': 0.07744862297422075,\n",
       " '044100914X': 0.07297474589657853,\n",
       " '0439176840': 0.07279961458672553,\n",
       " '0446609323': 0.05214976415080463,\n",
       " '0385333463': 0.04922224995776618,\n",
       " '0609607995': 0.05517989376869002,\n",
       " '0072434244': 0.049745919804485894,\n",
       " '0140156291': 0.04742581820554161,\n",
       " '055357762X': 0.06626432862139506,\n",
       " '0395665698': 0.047606740804722665,\n",
       " '1578151929': 0.050108836191790344,\n",
       " '0689853246': 0.06372210243979133,\n",
       " '1930097344': 0.08109102967781454,\n",
       " '1891620274': 0.05084892292661345,\n",
       " '0505524457': 0.07469290005302574,\n",
       " '0446675482': 0.08872099694118743,\n",
       " '0345463447': 0.057558979920074686,\n",
       " '0451527593': 0.05272199271104764,\n",
       " '0451522753': 0.04835158883508481,\n",
       " '0345388771': 0.05138260388371165,\n",
       " '0452283248': 0.057898115895655355,\n",
       " '0441006108': 0.05126867469309093,\n",
       " '1565845072': 0.05727444662621976,\n",
       " '0316289442': 0.05154301704571763,\n",
       " '1561702803': 0.05565997086051135,\n",
       " '0814471293': 0.0623262342206232,\n",
       " '0385721080': 0.05549653505980262,\n",
       " '0310286700': 0.04883171131847056,\n",
       " '0345405668': 0.06121402069512079,\n",
       " '0446524913': 0.06284372379635557,\n",
       " '0440328810': 0.04019588570906963,\n",
       " '0066210216': 0.03909025802792499,\n",
       " '0373484224': 0.06843812477126825,\n",
       " '0465041213': 0.05485208618752236,\n",
       " '0679601759': 0.050490427909893235,\n",
       " '0195066340': 0.04873453501943603,\n",
       " '096139210X': 0.04462063108511567,\n",
       " '0072127481': 0.0537905323305038,\n",
       " '0452282276': 0.05338149015618838,\n",
       " '031285787X': 0.03702933139624029,\n",
       " '0864923066': 0.047411673172447065,\n",
       " '1578150094': 0.0414289324440807,\n",
       " '0452267560': 0.058760808712917216,\n",
       " '0785109889': 0.05763480263646562,\n",
       " '0140132678': 0.04760303177049768,\n",
       " '0671872281': 0.06590655562635288,\n",
       " '0671707434': 0.043794893540513816,\n",
       " '0061051128': 0.05225561529553098,\n",
       " '0849942411': 0.060713526188186026,\n",
       " '0316286443': 0.05158418337284661,\n",
       " '0140430903': 0.05373865744213718,\n",
       " '1558747109': 0.06481942732615568,\n",
       " '0670893919': 0.05230181318679888,\n",
       " '1558747125': 0.06481942732615568,\n",
       " '0440236908': 0.06626980385077401,\n",
       " '0192839640': 0.05635415960117011,\n",
       " '1590400283': 0.0470420850507916,\n",
       " '0679771832': 0.05860401343256196,\n",
       " '0596003285': 0.0711547598501687,\n",
       " '0671743856': 0.06474882290689199,\n",
       " '8420613207': 0.05766819210267697,\n",
       " '0758200641': 0.13850004162504165,\n",
       " '0812575970': 0.04950046982212922,\n",
       " '0765343509': 0.05594105561083523,\n",
       " '0380753006': 0.11026217976350591,\n",
       " '0141800518': 0.04874178155834676,\n",
       " '0553578944': 0.06813559917500657,\n",
       " '0451207300': 0.05686616369891634,\n",
       " '0312957572': 0.04297003538107809,\n",
       " '0061031690': 0.04744967093437414,\n",
       " '0374181152': 0.048255792089553155,\n",
       " '1563899663': 0.11276345417648108,\n",
       " '0553577239': 0.05459615488199838,\n",
       " '0312280122': 0.053251592881992466,\n",
       " '0192862154': 0.06635783293012208,\n",
       " '0807261661': 0.05357925598968974,\n",
       " '0399148795': 0.05877741630051531,\n",
       " '0071359168': 0.06594962018239173,\n",
       " '0671016652': 0.052885231658518495,\n",
       " '0553576038': 0.04963758024371612,\n",
       " '1401396658': 0.06447660716563118,\n",
       " '1559277114': 0.050151280914673045,\n",
       " '1563896680': 0.11276345417648108,\n",
       " '0802135226': 0.0503806183940394,\n",
       " '0684868814': 0.04963214583941643,\n",
       " '0486270629': 0.05829456560618801,\n",
       " '0061002798': 0.048622410171996,\n",
       " '0671017047': 0.04341891703122109,\n",
       " '0812544390': 0.05980068614269706,\n",
       " '067974066X': 0.04597352187439778,\n",
       " '158297103X': 0.04786797980085774,\n",
       " '1569715025': 0.052085456110021126,\n",
       " '0679725229': 0.055706903196049304,\n",
       " 'B00007CWH7': 0.052064617572368105,\n",
       " '1586214632': 0.06921585875649258,\n",
       " '0688176461': 0.06451681855936686,\n",
       " '0505524228': 0.07974931393406565,\n",
       " '039303710X': 0.05313135222022219,\n",
       " '1573229385': 0.04004514099650271,\n",
       " '0446603104': 0.0821522850371713,\n",
       " '0060975776': 0.058379251845954,\n",
       " '0440122090': 0.046705538314915925,\n",
       " '156947169X': 0.061152711021202164,\n",
       " '0553292722': 0.05658629472706213,\n",
       " '0060937017': 0.06451681855936688,\n",
       " '0684852586': 0.05555807394893416,\n",
       " '0743242203': 0.05125239364906928,\n",
       " '1930252986': 0.06316328689695597,\n",
       " '0486414183': 0.06590655562635288,\n",
       " '1558580093': 0.06059096488330412,\n",
       " '0380798271': 0.046370689192585246,\n",
       " '1582790671': 0.047195000719122936,\n",
       " '0618260587': 0.04634503695504308,\n",
       " '1559940964': 0.06246717524274113,\n",
       " '1555612601': 0.06363384094215793,\n",
       " '0743222261': 0.04525076861965639,\n",
       " '0553575619': 0.04679957566847029,\n",
       " '055352805X': 0.0635178146411091,\n",
       " '0449208672': 0.04437499107889184,\n",
       " '0060527811': 0.05506141270021702,\n",
       " '0970170904': 0.0763159198499299,\n",
       " '0684825546': 0.054607236784669014,\n",
       " '0465038514': 0.06984064436796714,\n",
       " '0312869967': 0.06003526406038101,\n",
       " '0300084293': 0.05804625768632665,\n",
       " '067150603X': 0.049199924904901514,\n",
       " '006103021X': 0.09543305960371411,\n",
       " '0812579844': 0.05375481478778315,\n",
       " '0399149503': 0.057789751087022265,\n",
       " '1586481614': 0.05548226884932461,\n",
       " '0486287149': 0.06229522970403064,\n",
       " '0380750848': 0.09758857148319929,\n",
       " '0553285785': 0.05988121018769538,\n",
       " '0899681565': 0.053702302674656234,\n",
       " '1558745734': 0.05528227504755156,\n",
       " '0517543052': 0.04510470903681002,\n",
       " '0553524968': 0.06930251097625562,\n",
       " '0738201669': 0.04979743843543132,\n",
       " '0671021478': 0.06048552202272892,\n",
       " '0804111278': 0.05929591816708162,\n",
       " '1579544592': 0.06024699486185537,\n",
       " '0312961731': 0.06148400172344237,\n",
       " '0671040545': 0.06669888717416816,\n",
       " '0786867906': 0.05114175662974306,\n",
       " '0671744623': 0.0714343651206727,\n",
       " '0451410440': 0.05017615276349048,\n",
       " '1563897954': 0.06844290051640335,\n",
       " '0671742493': 0.05107420998793928,\n",
       " '0306807971': 0.053704108799653566,\n",
       " '0060084332': 0.05108509775516568,\n",
       " '1564743861': 0.06121044324530186,\n",
       " '0767906039': 0.03913376896544969,\n",
       " '034537536X': 0.06292958316167101,\n",
       " '0064471969': 0.046294599272149885,\n",
       " '1551667592': 0.07631445583834469,\n",
       " '015100496X': 0.06031494772263244,\n",
       " '0844671282': 0.04825666172960117,\n",
       " '0671700758': 0.0636584586010742,\n",
       " '1565924940': 0.07217892433454713,\n",
       " '0895262797': 0.055544005246361744,\n",
       " '1551668610': 0.07422691380308627,\n",
       " '0060092963': 0.07760562775797762,\n",
       " '0312984596': 0.09683119638451262,\n",
       " '0375752250': 0.047507763973488,\n",
       " '0743434374': 0.04172637772991276,\n",
       " '0452262496': 0.04922282864756139,\n",
       " '0312978588': 0.055886706930679854,\n",
       " '1560146656': 0.048169779143508035,\n",
       " '0451459245': 0.0582402976342624,\n",
       " '067978148X': 0.03717760839189555,\n",
       " '0812566548': 0.05280629650593389,\n",
       " '0553562398': 0.051509994748841124,\n",
       " '0553577387': 0.05596013322401355,\n",
       " '0440222818': 0.0554686916732912,\n",
       " '0140183507': 0.04616808067379962,\n",
       " '1561708127': 0.060856906459637226,\n",
       " '0743504178': 0.04598527613557883,\n",
       " '0060012358': 0.06708778519361032,\n",
       " '0439176867': 0.11738119781964175,\n",
       " '0140440453': 0.056937688398193145,\n",
       " '0449150380': 0.05880115000411221,\n",
       " '1573430226': 0.075029188827821,\n",
       " '0142000760': 0.05222474748428846,\n",
       " '158574297X': 0.05878148195611308,\n",
       " '1564310604': 0.05027376866755272,\n",
       " '0140714561': 0.07084604859457484,\n",
       " '078576514X': 0.051797535785916476,\n",
       " '0385336993': 0.07188724464788807,\n",
       " '0671014757': 0.08196722237232752,\n",
       " '0671725823': 0.054244617326733864,\n",
       " '0688132200': 0.06093492459107338,\n",
       " '0671039520': 0.10354804457959214,\n",
       " '1558744746': 0.050219799342459966,\n",
       " '0671027522': 0.07060223572060015,\n",
       " '0441006434': 0.06031402271408668,\n",
       " '0892967420': 0.044488110190618754,\n",
       " '0375707093': 0.05040059223195133,\n",
       " '0312267495': 0.06293342529637826,\n",
       " '0743431014': 0.059291829993790984,\n",
       " '0060617519': 0.05313175973746623,\n",
       " '0809182475': 0.04107263468320599,\n",
       " '0140074317': 0.05047184476329694,\n",
       " '0060609184': 0.07771357721263127,\n",
       " '0609607677': 0.044479198580707424,\n",
       " '0465017290': 0.054089083087092336,\n",
       " '0425176037': 0.04933648387465179,\n",
       " '0312962436': 0.08808771873288003,\n",
       " '0393947734': 0.06154701112509575,\n",
       " '0345372050': 0.059174673983514996,\n",
       " '0345434765': 0.055308308806001044,\n",
       " '0345350480': 0.050422004514915936,\n",
       " '1563524872': 0.0561769890370427,\n",
       " '0828314365': 0.05127350691287707,\n",
       " '0800714784': 0.12003577157085929,\n",
       " '0800744233': 0.12003577157085929,\n",
       " '0140239405': 0.053083044558227724,\n",
       " '0609808095': 0.04810507169759179,\n",
       " '1565113853': 0.059859865491912634,\n",
       " '0440228654': 0.04573390925550603,\n",
       " '0804109125': 0.0566906725641639,\n",
       " '0786865512': 0.07460018912728009,\n",
       " '0394800028': 0.0649299082866835,\n",
       " '0395181569': 0.062450913594788014,\n",
       " '0195061675': 0.06132262467754346,\n",
       " '0875848141': 0.0675411500334611,\n",
       " '0786871504': 0.06018645710793254,\n",
       " '0375430962': 0.06692560647594895,\n",
       " '0761104879': 0.06901185807937037,\n",
       " '0316341517': 0.05035287382688777,\n",
       " '0471044601': 0.07698013194100703,\n",
       " '0439087589': 0.0712971354182951,\n",
       " '0899664024': 0.06365603110958842,\n",
       " '006019698X': 0.09402448382355452,\n",
       " '0679451005': 0.06508264180907193,\n",
       " '0767903439': 0.06123833213984888,\n",
       " '067188428X': 0.058219855706066956,\n",
       " '0786866837': 0.06942396997881094,\n",
       " '0842381414': 0.046487163666994555,\n",
       " '0805057579': 0.05975399695136934,\n",
       " '0446679062': 0.0660092065618878,\n",
       " '0140280103': 0.06570939932538415,\n",
       " '0375410635': 0.07280083509420363,\n",
       " '0439095182': 0.1213613826670528,\n",
       " '0802132219': 0.05377501888602442,\n",
       " '0807847305': 0.06355579334771365,\n",
       " '0515131547': 0.0858825353390571,\n",
       " '0745128149': 0.06650490197612705,\n",
       " '0451524039': 0.05529741996416327,\n",
       " '0375706933': 0.0446616914311951,\n",
       " '0060956828': 0.09402448382355452,\n",
       " '0967512301': 0.07693901333962841,\n",
       " '084871945X': 0.07181647104681815,\n",
       " '0441009743': 0.0532830357284093,\n",
       " '0786918055': 0.097568675490562,\n",
       " '1582343497': 0.058022185431711136,\n",
       " '0688156312': 0.09613837770844387,\n",
       " '0553281747': 0.053881855817220124,\n",
       " '0060937114': 0.09613837770844386,\n",
       " '0375724842': 0.05943936436188391,\n",
       " '0451410815': 0.054398406400634765,\n",
       " '0842365826': 0.05942113118044993,\n",
       " '0671016709': 0.06623442623385807,\n",
       " '0174434723': 0.06920149061204312,\n",
       " '0679781609': 0.06028631103700209,\n",
       " '015201201X': 0.0759873720344491,\n",
       " '037575816X': 0.04491012039605379,\n",
       " '0756400597': 0.06455532842675374,\n",
       " '0192834231': 0.07147984089338764,\n",
       " '0385497458': 0.04476793746851998,\n",
       " '0765300583': 0.06286170978669639,\n",
       " '1931514976': 0.08254091827397156,\n",
       " '038097858X': 0.045908925327852214,\n",
       " '1552042138': 0.060451294201158204,\n",
       " '0684837137': 0.06280008609504756,\n",
       " '0849942705': 0.06670054625750199,\n",
       " '0140262032': 0.0736767224457389,\n",
       " '0805241892': 0.06032332855192313,\n",
       " '0679764038': 0.04222336274581527,\n",
       " '0394909372': 0.0689424630698406,\n",
       " '0886778328': 0.06738159806550535,\n",
       " '067189515X': 0.07220292071113456,\n",
       " '0440128994': 0.04833584285216695,\n",
       " '0674639251': 0.061166964883610994,\n",
       " '1577312155': 0.08284466414005559,\n",
       " '0684823853': 0.04494613311949126,\n",
       " '1885167180': 0.07108452180467585,\n",
       " '0879751983': 0.04308334596829358,\n",
       " '1880418401': 0.07063248348411945,\n",
       " '1563897156': 0.052460806798496296,\n",
       " '0679745645': 0.058034990506941116,\n",
       " '037550219X': 0.06270281228870132,\n",
       " '0807508519': 0.049139785581104406,\n",
       " '0811213129': 0.06206100456202909,\n",
       " '0698118413': 0.07891555356719468,\n",
       " '0671657348': 0.05848944308201751,\n",
       " '0812545141': 0.0512640696881952,\n",
       " '0312968051': 0.05692862471352566,\n",
       " '0312854064': 0.059426486595080284,\n",
       " '0471117099': 0.06939440981007713,\n",
       " '0307103285': 0.059636331995468764,\n",
       " '0515131520': 0.07897436943360776,\n",
       " '0380720450': 0.06411356505557565,\n",
       " '0156027739': 0.056150214362861516,\n",
       " '038549503X': 0.05206114971939162,\n",
       " '0312269218': 0.08224629167617992,\n",
       " '1561005355': 0.07083414312809279,\n",
       " '0688172377': 0.05283883578198619,\n",
       " '0395843677': 0.06594297926650866,\n",
       " '0399221301': 0.07205960886613134,\n",
       " '014051452X': 0.07528788671993168,\n",
       " '0679722068': 0.05697693052694224,\n",
       " '0471399779': 0.07479119465060202,\n",
       " '044900094X': 0.057425047867275515,\n",
       " '067100414X': 0.04781846123586811,\n",
       " '0380807203': 0.05470641224371734,\n",
       " '020172152X': 0.08014581680741138,\n",
       " 'B000067DTW': 0.07479119465060202,\n",
       " '1565123093': 0.04706554278318971,\n",
       " '1587670119': 0.05807967375813023,\n",
       " '157859071X': 0.06108769780990848,\n",
       " '0743223799': 0.061344543628450265,\n",
       " '0767901843': 0.07108452180467582,\n",
       " '1400033152': 0.052739420224408404,\n",
       " '0670654000': 0.06831059498123879,\n",
       " '0345396812': 0.0742052202763818,\n",
       " '1570718423': 0.08505422368885372,\n",
       " '007882396X': 0.0568571287281098,\n",
       " '159086221X': 0.05077600545986206,\n",
       " '0671785915': 0.07872520377746563,\n",
       " 'B0000645XR': 0.0548820241894375,\n",
       " '0743246136': 0.055630577352517835,\n",
       " '0684831392': 0.0503262785830988,\n",
       " '0024096903': 0.07077697285808003,\n",
       " '0688133649': 0.07243589266380082,\n",
       " '0786865059': 0.0486169527678229,\n",
       " '1580630537': 0.045035926307991477,\n",
       " '1564781313': 0.06067205954307498,\n",
       " '0140182829': 0.05925571344307191,\n",
       " '0689319908': 0.06070805365036056,\n",
       " '0064472671': 0.13250053665160014,\n",
       " '0886773784': 0.06663349311981452,\n",
       " '0375754741': 0.04154119595448472,\n",
       " '1563892731': 0.06747200550093799,\n",
       " '0786238631': 0.07953001738788468,\n",
       " '0679600477': 0.057913835644332216,\n",
       " '0786232196': 0.057213805147459974,\n",
       " '0312267568': 0.05732588671646061,\n",
       " '1551660598': 0.06483195122420816,\n",
       " '1551665077': 0.07189899262782778,\n",
       " '0761129758': 0.058978743921230044,\n",
       " '0694522015': 0.06107904599109604,\n",
       " '0571199976': 0.057829184504231995,\n",
       " '1561708755': 0.07334403015162085,\n",
       " '0515132640': 0.08682627841591851,\n",
       " '0821773836': 0.09414675986729598,\n",
       " '0515131695': 0.0955391686460684,\n",
       " '0345346971': 0.05617935065858539,\n",
       " '006093221X': 0.0642215447878246,\n",
       " '0375727566': 0.06258119427432665,\n",
       " '1559273070': 0.07338984156491525,\n",
       " '0375409459': 0.0650517493605555,\n",
       " '0345441613': 0.0756263935038235,\n",
       " '0306806983': 0.06395174542168727,\n",
       " '0684844257': 0.057781230229923465,\n",
       " '0553470515': 0.052096999620352434,\n",
       " '080284345X': 0.052384415346817766,\n",
       " '0684856212': 0.05118741680296018,\n",
       " '1559275855': 0.08116835830318879,\n",
       " '1401396690': 0.07658846070125587,\n",
       " '0310245648': 0.056221049220683134,\n",
       " '0809024608': 0.056953637315654025,\n",
       " '038531826X': 0.08667767625335768,\n",
       " '0465024769': 0.06742335086963004,\n",
       " '0395735297': 0.04806114441462306,\n",
       " '0060699744': 0.09327168412424532,\n",
       " '0140230122': 0.06446282014524209,\n",
       " '0553577905': 0.05159555185100949,\n",
       " '0679750169': 0.0468098963148228,\n",
       " '0609609602': 0.06885627831467246,\n",
       " '0312194374': 0.053106662757592044,\n",
       " '0679732543': 0.05681266279037934,\n",
       " '0451198387': 0.06165013374264895,\n",
       " '0525947183': 0.05094815462123467,\n",
       " '0525945237': 0.08784910856482347,\n",
       " '0375406603': 0.08202809270731581,\n",
       " '0553378147': 0.055520730547865646,\n",
       " '1575665468': 0.05718153049400057,\n",
       " '0471389463': 0.06984309173925574,\n",
       " '0380810220': 0.061547938217452025,\n",
       " '0374140014': 0.07019588278343705,\n",
       " '0553245945': 0.07596060577354381,\n",
       " '157673661X': 0.06181765055831729,\n",
       " '0060155477': 0.06841486008110573,\n",
       " '1565112849': 0.04773121580327389,\n",
       " '1582880042': 0.06905177927980292,\n",
       " '0743525876': 0.05355403230647517,\n",
       " '044021128X': 0.05741930872744825,\n",
       " '1573921238': 0.0611416676557605,\n",
       " '0967945690': 0.08342654158253061,\n",
       " 'B00007FYDY': 0.08139301396722691,\n",
       " '0061010863': 0.05552385812590782,\n",
       " '0375758216': 0.04978502836351794,\n",
       " '0812566734': 0.08349014153430177,\n",
       " '087784691X': 0.07431968676716295,\n",
       " '0380800160': 0.04270365584503374,\n",
       " '0375713247': 0.07111021670111495,\n",
       " '014029855X': 0.07984978513791874,\n",
       " '0446678864': 0.11218658130422836,\n",
       " '0553571818': 0.06429958511402024,\n",
       " '0812931416': 0.05558523886266274,\n",
       " '0373259824': 0.0696602918518681,\n",
       " '1585420441': 0.10675324675324675,\n",
       " '0689840373': 0.059444426641506384,\n",
       " '031227209X': 0.05753726876216844,\n",
       " '0312253699': 0.05725709823379015,\n",
       " '0895261103': 0.0635427454551783,\n",
       " '0195288025': 0.05654464402414101,\n",
       " '0060987359': 0.06339881397031252,\n",
       " '0465021522': 0.08331422444131065,\n",
       " '0312981023': 0.08260505154909778,\n",
       " '0878339825': 0.0819022900765423,\n",
       " '0671892010': 0.0689305538626006,\n",
       " '1563896206': 0.08457398624547136,\n",
       " '0684868946': 0.06908416592809496,\n",
       " '0374506485': 0.06461769362361174,\n",
       " '096220367X': 0.0887099941363453,\n",
       " '044050838X': 0.04833682959257001,\n",
       " '1881524639': 0.1389258761133761,\n",
       " '0393319407': 0.07166439934092761,\n",
       " '0375758186': 0.06125500857797509,\n",
       " '0618117490': 0.04774479247149347,\n",
       " '068485760X': 0.05375936405852084,\n",
       " '0930289595': 0.05399514909700535,\n",
       " '007138037X': 0.06835610166669162,\n",
       " '0070581045': 0.08145180625821347,\n",
       " '0312209118': 0.06850676590157519,\n",
       " '0618124918': 0.07389999726403944,\n",
       " '0805072675': 0.054131245596405725,\n",
       " '0451194888': 0.06577664251396156,\n",
       " '0312978359': 0.08853963654346944,\n",
       " '0064472663': 0.11506383369034663,\n",
       " '0618082360': 0.0581397060289017,\n",
       " '074341196X': 0.05928099881032108,\n",
       " '0385484267': 0.07205092110177701,\n",
       " '1581821239': 0.060130435046666465,\n",
       " '185984412X': 0.08350835292060141,\n",
       " '0553298054': 0.12501730827216787,\n",
       " '0373835760': 0.10933215608407226,\n",
       " '0786013990': 0.06437464912130368,\n",
       " '1886411484': 0.09929558959969144,\n",
       " '0316167940': 0.07572196942544382,\n",
       " '0679724753': 0.05813177168882599,\n",
       " '0393040127': 0.05490357583207715,\n",
       " '1569472807': 0.053521366981247286,\n",
       " '086516486X': 0.07284749785034934,\n",
       " '0385267320': 0.0729467899708355,\n",
       " '0385332904': 0.07535582956281218,\n",
       " '0812966627': 0.06587789083065293,\n",
       " '0915132389': 0.0628892992096334,\n",
       " '0395735114': 0.07401631907632258,\n",
       " '0812564758': 0.07708446597412559,\n",
       " '1570623740': 0.06838101456619268,\n",
       " '0684859386': 0.07236365542622583,\n",
       " '157826085X': 0.0764085053573869,\n",
       " '0425104273': 0.044499632352662126,\n",
       " '1576870871': 0.07273115483972947,\n",
       " '1568953593': 0.05463674882629475,\n",
       " '0553565575': 0.06799938140843192,\n",
       " '0679463305': 0.08419950974888685,\n",
       " '042518384X': 0.0652081042467284,\n",
       " '0425181731': 0.06467935935619325,\n",
       " '1551665093': 0.06321314074866913,\n",
       " '0060930527': 0.0628196846271971,\n",
       " '0140258825': 0.07575494491197216,\n",
       " '0805066381': 0.05365466485652192,\n",
       " '0743505352': 0.04513331241622661,\n",
       " '0671737783': 0.06235267852096338,\n",
       " '1572700203': 0.054384923252825214,\n",
       " '0451207637': 0.06635979701664985,\n",
       " '1569310033': 0.07695889731432581,\n",
       " '1883219264': 0.07214386000765641,\n",
       " '0060972823': 0.08732661468341948,\n",
       " '0465020631': 0.05957388373180773,\n",
       " '0060928417': 0.05792225146888646,\n",
       " '0451410548': 0.05830160243770192,\n",
       " '0440213282': 0.06067469136176623,\n",
       " '0759239630': 0.07480270057311608,\n",
       " '0842377506': 0.07035519693982732,\n",
       " '1853027499': 0.03608848452059561,\n",
       " '0375504281': 0.08164896122955245,\n",
       " '0345440196': 0.051615350517546975,\n",
       " '1576104265': 0.10194311385908095,\n",
       " '0886775752': 0.084230813944998,\n",
       " '006103083X': 0.05376603703499542,\n",
       " '038097746X': 0.05681211844489526,\n",
       " '0804107386': 0.04693587221181821,\n",
       " '0553802135': 0.04243071164226718,\n",
       " '0066211328': 0.07358048537956426,\n",
       " '0679886478': 0.05203714987833703,\n",
       " '1551667940': 0.049583067018963256,\n",
       " '0887071694': 0.3919385655496767,\n",
       " '0571199542': 0.05952657938713829,\n",
       " '0375760954': 0.1096015933070602,\n",
       " '0380785080': 0.04877176655492035,\n",
       " '0060959193': 0.04230364684604476,\n",
       " '0887071546': 0.3919385655496767,\n",
       " '1563898020': 0.05071936364567207,\n",
       " '1576735389': 0.05075047935172302,\n",
       " '0061094048': 0.0676251815653924,\n",
       " '0446357251': 0.0630569762269649,\n",
       " '0877847940': 0.0758019758019758,\n",
       " '0415923913': 0.07287295244097489,\n",
       " '0887072216': 0.3919385655496767,\n",
       " '0316358517': 0.05319398197830345,\n",
       " '0805055800': 0.06080783805812583,\n",
       " '0140194738': 0.04555183225296006,\n",
       " '0812534581': 0.07678934538530531,\n",
       " '074325001X': 0.06928156902444231,\n",
       " '0618164537': 0.08033441204984494,\n",
       " '0393322572': 0.05696741511035664,\n",
       " '0808545256': 0.0708402493823559,\n",
       " '0964596008': 0.09332350441460611,\n",
       " '0553526634': 0.05405003594512901,\n",
       " '0879305304': 0.09532699916788753,\n",
       " '0312954212': 0.042016214940814194,\n",
       " '0670885517': 0.06520355422019095,\n",
       " '0789467682': 0.10137489824989825,\n",
       " '0694517488': 0.09022079928707409,\n",
       " '0440234565': 0.062370140659457195,\n",
       " '0140187723': 0.05810194710498714,\n",
       " '0449206211': 0.0525693029942627,\n",
       " '006052085X': 0.04766938778100476,\n",
       " '068485421X': 0.07426969745760308,\n",
       " ...}"
      ]
     },
     "execution_count": 19,
     "metadata": {},
     "output_type": "execute_result"
    }
   ],
   "source": [
    "bipartite.clustering(B)"
   ]
  },
  {
   "cell_type": "code",
   "execution_count": 20,
   "metadata": {
    "collapsed": false,
    "pycharm": {
     "name": "#%%\n"
    }
   },
   "outputs": [
    {
     "data": {
      "text/plain": [
       "0.11240934068067222"
      ]
     },
     "execution_count": 20,
     "metadata": {},
     "output_type": "execute_result"
    }
   ],
   "source": [
    "bipartite.average_clustering(B)"
   ]
  },
  {
   "cell_type": "code",
   "execution_count": 21,
   "metadata": {
    "collapsed": false,
    "pycharm": {
     "name": "#%%\n"
    }
   },
   "outputs": [
    {
     "data": {
      "text/plain": [
       "[]"
      ]
     },
     "execution_count": 21,
     "metadata": {},
     "output_type": "execute_result"
    }
   ],
   "source": [
    "list(nx.algorithms.community.kclique.k_clique_communities(B, 3))"
   ]
  },
  {
   "cell_type": "code",
   "execution_count": 22,
   "metadata": {
    "collapsed": false,
    "pycharm": {
     "name": "#%%\n"
    }
   },
   "outputs": [
    {
     "data": {
      "text/plain": [
       "[]"
      ]
     },
     "execution_count": 22,
     "metadata": {},
     "output_type": "execute_result"
    }
   ],
   "source": [
    "list(nx.algorithms.community.kclique.k_clique_communities(B, 4))"
   ]
  },
  {
   "cell_type": "code",
   "execution_count": 23,
   "metadata": {
    "collapsed": false,
    "pycharm": {
     "name": "#%%\n"
    }
   },
   "outputs": [
    {
     "data": {
      "text/plain": [
       "[]"
      ]
     },
     "execution_count": 23,
     "metadata": {},
     "output_type": "execute_result"
    }
   ],
   "source": [
    "list(nx.algorithms.community.kclique.k_clique_communities(B, 5))"
   ]
  },
  {
   "cell_type": "markdown",
   "metadata": {
    "collapsed": false
   },
   "source": [
    "### Product Network"
   ]
  },
  {
   "cell_type": "code",
   "execution_count": 24,
   "metadata": {
    "collapsed": false,
    "pycharm": {
     "name": "#%%\n"
    }
   },
   "outputs": [
    {
     "data": {
      "image/png": "[encoded data removed]",
      "text/plain": [
       "<Figure size 432x288 with 1 Axes>"
      ]
     },
     "metadata": {},
     "output_type": "display_data"
    }
   ],
   "source": [
    "from networkx.algorithms import bipartite\n",
    "\n",
    "## book_book\n",
    "B1 =  bipartite.weighted_projected_graph(B, bottom_nodes)\n",
    "nx.draw(B1, with_labels=False, node_size=20)"
   ]
  },
  {
   "cell_type": "code",
   "execution_count": 25,
   "metadata": {
    "collapsed": false,
    "pycharm": {
     "name": "#%%\n"
    }
   },
   "outputs": [
    {
     "data": {
      "text/plain": [
       "0.08725748269474505"
      ]
     },
     "execution_count": 25,
     "metadata": {},
     "output_type": "execute_result"
    }
   ],
   "source": [
    "B1_degree=pd.Series(nx.degree_centrality(B1))\n",
    "B1_betweenness=pd.Series(nx.betweenness_centrality(B1))\n",
    "B1_closeness=pd.Series(nx.closeness_centrality(B1))\n",
    "nx.density(B1)"
   ]
  },
  {
   "cell_type": "code",
   "execution_count": 26,
   "metadata": {
    "collapsed": false,
    "pycharm": {
     "name": "#%%\n"
    }
   },
   "outputs": [
    {
     "name": "stdout",
     "output_type": "stream",
     "text": [
      "           Book_i      Book_j #copurchased\n",
      "0      0380973545  0385488440            1\n",
      "1      0380973545  0465041213            1\n",
      "2      0380973545  0802139396            1\n",
      "3      0380973545  1570429723            1\n",
      "4      0380973545  089845865X            1\n",
      "...           ...         ...          ...\n",
      "48325  0380807203  0399149392            1\n",
      "48326  0679745645  0399149392            1\n",
      "48327  0679745645  0679455612            1\n",
      "48328  0399149392  0679455612            1\n",
      "48329  0140434267  0679455612            3\n",
      "\n",
      "[48330 rows x 3 columns]\n"
     ]
    }
   ],
   "source": [
    "Book_Book_matrix=pd.DataFrame([pd.Series([a for (a,b,c) in B1.edges(data=True)]),pd.Series([b for (a,b,c) in B1.edges(data=True)]),pd.Series([c['weight'] for (a,b,c) in B1.edges(data=True)])]).T\n",
    "Book_Book_matrix.columns=['Book_i','Book_j','#copurchased']\n",
    "Book_Book_matrix.head()\n",
    "print(Book_Book_matrix)"
   ]
  },
  {
   "cell_type": "code",
   "execution_count": 27,
   "metadata": {
    "collapsed": false,
    "pycharm": {
     "name": "#%%\n"
    }
   },
   "outputs": [
    {
     "data": {
      "image/png": "[encoded data removed]",
      "text/plain": [
       "<Figure size 432x288 with 1 Axes>"
      ]
     },
     "metadata": {},
     "output_type": "display_data"
    },
    {
     "data": {
      "text/plain": [
       "<Figure size 1440x720 with 0 Axes>"
      ]
     },
     "metadata": {},
     "output_type": "display_data"
    }
   ],
   "source": [
    "Book_Book_matrix2 =Book_Book_matrix[Book_Book_matrix['#copurchased'] > Book_Book_matrix['#copurchased'].mean()]\n",
    "B1_2=nx.from_pandas_edgelist(Book_Book_matrix2, 'Book_i', 'Book_j', '#copurchased')\n",
    "B1_2=B1_2.to_undirected()\n",
    "nx.draw(B1_2, pos=nx.spring_layout(B1_2),node_size=20)\n",
    "plt.figure(figsize=(20,10))\n",
    "plt.show()"
   ]
  },
  {
   "cell_type": "code",
   "execution_count": 28,
   "metadata": {
    "collapsed": false,
    "pycharm": {
     "name": "#%%\n"
    }
   },
   "outputs": [
    {
     "data": {
      "image/png": "[encoded data removed]",
      "text/plain": [
       "<Figure size 432x288 with 1 Axes>"
      ]
     },
     "metadata": {},
     "output_type": "display_data"
    },
    {
     "data": {
      "text/plain": [
       "<Figure size 1440x720 with 0 Axes>"
      ]
     },
     "metadata": {},
     "output_type": "display_data"
    }
   ],
   "source": [
    "import community\n",
    "Book_Book_matrix2 =Book_Book_matrix[Book_Book_matrix['#copurchased'] > Book_Book_matrix['#copurchased'].mean()]\n",
    "B1_2=nx.from_pandas_edgelist(Book_Book_matrix2, 'Book_i', 'Book_j', '#copurchased')\n",
    "B1_2=B1_2.to_undirected()\n",
    "#nx.draw(B1_2, pos=nx.spring_layout(B1_2),node_size=20)\n",
    "\n",
    "part = community.best_partition(B1_2)\n",
    "values = [part.get(node) for node in B1_2.nodes()]\n",
    "nx.draw_spring(B1_2, cmap = plt.get_cmap('jet'), node_color = values, node_size=30, with_labels=False)\n",
    "plt.figure(figsize=(20,10))\n",
    "plt.show()"
   ]
  },
  {
   "cell_type": "code",
   "execution_count": 29,
   "metadata": {
    "collapsed": false,
    "pycharm": {
     "name": "#%%\n"
    }
   },
   "outputs": [],
   "source": [
    "from community import community_louvain\n",
    "\n",
    "p = community_louvain.best_partition(B1_2)"
   ]
  },
  {
   "cell_type": "code",
   "execution_count": 30,
   "metadata": {
    "collapsed": false,
    "pycharm": {
     "name": "#%%\n"
    }
   },
   "outputs": [],
   "source": [
    "df = pd.DataFrame(columns=['book_id','cluster_num'])\n",
    "i=0\n",
    "for k, v in p.items():\n",
    "    df.loc[i] = [k,v]\n",
    "    i = i + 1"
   ]
  },
  {
   "cell_type": "code",
   "execution_count": 31,
   "metadata": {
    "collapsed": false,
    "pycharm": {
     "name": "#%%\n"
    }
   },
   "outputs": [
    {
     "data": {
      "text/plain": [
       "9     197\n",
       "12    182\n",
       "0     163\n",
       "7     146\n",
       "2     114\n",
       "5      63\n",
       "10     63\n",
       "8      17\n",
       "11      7\n",
       "14      3\n",
       "13      2\n",
       "1       2\n",
       "3       2\n",
       "4       2\n",
       "6       2\n",
       "Name: cluster_num, dtype: int64"
      ]
     },
     "execution_count": 31,
     "metadata": {},
     "output_type": "execute_result"
    }
   ],
   "source": [
    "df['cluster_num'].value_counts()"
   ]
  },
  {
   "cell_type": "markdown",
   "metadata": {
    "collapsed": false
   },
   "source": [
    "### Recommendation"
   ]
  },
  {
   "cell_type": "code",
   "execution_count": 32,
   "metadata": {
    "collapsed": false,
    "pycharm": {
     "name": "#%%\n"
    }
   },
   "outputs": [],
   "source": [
    "import pandas as pd\n",
    "\n",
    "df_amazon=pd.read_csv('amazon.csv')\n",
    "df_amazon=df_amazon.set_index('ASIN')\n",
    "df_sub['Book_id_l']=df_sub['Book_id'].map(lambda x:[x])\n",
    "customer_book=df_sub.groupby('Customer_id')['Book_id_l'].sum()\n",
    "get_title=df_amazon['title']\n",
    "\n",
    "B1_path=dict(nx.all_pairs_dijkstra_path(B1))\n",
    "B1_length=dict(nx.all_pairs_dijkstra_path_length(B1))"
   ]
  },
  {
   "cell_type": "code",
   "execution_count": 33,
   "metadata": {
    "collapsed": false,
    "pycharm": {
     "name": "#%%\n"
    }
   },
   "outputs": [],
   "source": [
    "def recommend(customer_id):\n",
    "    book_list=customer_book[customer_id]\n",
    "    rec_list=[]\n",
    "    degree_list=[]\n",
    "    betweenness_list=[]\n",
    "    closeness_list=[]\n",
    "    for book_id in book_list:\n",
    "        i=0\n",
    "        r=pd.Series(B1_length[book_id]).sort_values().index\n",
    "        while r[i] in book_list:\n",
    "            i+=1\n",
    "        r1=r[i]   \n",
    "        rec_list.append(r1)\n",
    "        degree_list.append(B1_degree[r1])\n",
    "        betweenness_list.append(B1_betweenness[r1])\n",
    "        closeness_list.append(B1_closeness[r1])\n",
    "    df=pd.DataFrame([rec_list,degree_list,betweenness_list,closeness_list]).T\n",
    "    df.columns=['rec_id','degree','betweenness','closeness']\n",
    "    df_rec_count=df['rec_id'].value_counts()\n",
    "    df['count']=df['rec_id'].map(lambda s:df_rec_count[s])\n",
    "    df=df.drop_duplicates()\n",
    "    df['score']=0.5*df['count']+0.5*(df['degree']+df['betweenness']+df['closeness'])\n",
    "    df=df.sort_values(by='score',ascending=False)\n",
    "    if len(df)<6:\n",
    "        return [get_title[x] for x in df['rec_id'].values]\n",
    "    else:\n",
    "        return [get_title[x] for x in df.iloc[:5]['rec_id'].values]"
   ]
  },
  {
   "cell_type": "code",
   "execution_count": 34,
   "metadata": {
    "collapsed": false,
    "pycharm": {
     "name": "#%%\n"
    }
   },
   "outputs": [
    {
     "data": {
      "text/plain": [
       "[\"It's Not About the Bike: My Journey Back to Life\",\n",
       " 'Maxnotes Frankenstein (MAXnotes)',\n",
       " 'The Two Towers (Lord of the Rings (Paperback))',\n",
       " 'The Wide Window (A Series of Unfortunate Events, Book 3)',\n",
       " \"Getting Everything You Can Out of All You'Ve Got\"]"
      ]
     },
     "execution_count": 34,
     "metadata": {},
     "output_type": "execute_result"
    }
   ],
   "source": [
    "recommend('10KKJMBY5L7TK')"
   ]
  },
  {
   "cell_type": "code",
   "execution_count": 35,
   "metadata": {
    "collapsed": false,
    "pycharm": {
     "name": "#%%\n"
    }
   },
   "outputs": [
    {
     "data": {
      "text/plain": [
       "['Professor and The Madman, The : Unabridged',\n",
       " 'How to Win Friends & Influence People',\n",
       " 'How the Irish Saved Civilization (Hinges of History)',\n",
       " 'The First World War',\n",
       " 'Faith of the Fallen (Sword of Truth, Book 6)',\n",
       " 'Lord of Chaos (The Wheel of Time, Book 6)',\n",
       " 'Stone of Tears (Sword of Truth, Book 2)',\n",
       " \"Foundation's Edge (Foundation Novels (Paperback))\"]"
      ]
     },
     "execution_count": 35,
     "metadata": {},
     "output_type": "execute_result"
    }
   ],
   "source": [
    "[get_title[x] for x in customer_book['10KKJMBY5L7TK']]"
   ]
  },
  {
   "cell_type": "markdown",
   "metadata": {
    "collapsed": false
   },
   "source": [
    "### Customer Network"
   ]
  },
  {
   "cell_type": "code",
   "execution_count": 36,
   "metadata": {
    "collapsed": false,
    "pycharm": {
     "name": "#%%\n"
    }
   },
   "outputs": [
    {
     "data": {
      "image/png": "[encoded data removed]",
      "text/plain": [
       "<Figure size 432x288 with 1 Axes>"
      ]
     },
     "metadata": {},
     "output_type": "display_data"
    }
   ],
   "source": [
    "# customer_customer\n",
    "B2 = bipartite.weighted_projected_graph(B, top_nodes)\n",
    "nx.draw(B2, with_labels=False,node_size=20)"
   ]
  },
  {
   "cell_type": "code",
   "execution_count": 37,
   "metadata": {
    "collapsed": false,
    "pycharm": {
     "name": "#%%\n"
    }
   },
   "outputs": [
    {
     "name": "stdout",
     "output_type": "stream",
     "text": [
      "           Customer_i     Customer_j #copurchased\n",
      "0       2JPGNKUBZB29V  22LX6529JJ166            1\n",
      "1       2JPGNKUBZB29V  3CFT5LHFCB46K            1\n",
      "2       2JPGNKUBZB29V  3MQXFVZ9DCE8M            2\n",
      "3       2JPGNKUBZB29V  3QVAKVRAH657N            3\n",
      "4       2JPGNKUBZB29V  14CM5XTMI0UXE            2\n",
      "...               ...            ...          ...\n",
      "200926  2FQWV725FGE8S  12MZKD80BQI2K            1\n",
      "200927  2I32660RVI39G  36RVX6XDQIAAX            1\n",
      "200928  34974VMNZKRAT  12MZKD80BQI2K            1\n",
      "200929  3L1WSK1I3W4JU  3GT2VY34AXBOJ            2\n",
      "200930  3GT2VY34AXBOJ  2RELWKFCZRB8G            1\n",
      "\n",
      "[200931 rows x 3 columns]\n"
     ]
    }
   ],
   "source": [
    "Customer_Customer_matrix=pd.DataFrame([pd.Series([a for (a,b,c) in B2.edges(data=True)]),pd.Series([b for (a,b,c) in B2.edges(data=True)]),pd.Series([c['weight'] for (a,b,c) in B2.edges(data=True)])]).T\n",
    "Customer_Customer_matrix.columns=['Customer_i','Customer_j','#copurchased']\n",
    "Customer_Customer_matrix.head()\n",
    "print(Customer_Customer_matrix)"
   ]
  },
  {
   "cell_type": "code",
   "execution_count": 38,
   "metadata": {
    "collapsed": false,
    "pycharm": {
     "name": "#%%\n"
    }
   },
   "outputs": [
    {
     "data": {
      "image/png": "[encoded data removed]",
      "text/plain": [
       "<Figure size 432x288 with 1 Axes>"
      ]
     },
     "metadata": {},
     "output_type": "display_data"
    },
    {
     "data": {
      "text/plain": [
       "<Figure size 1440x720 with 0 Axes>"
      ]
     },
     "metadata": {},
     "output_type": "display_data"
    }
   ],
   "source": [
    "Customer_Customer_matrix2 =Customer_Customer_matrix[Customer_Customer_matrix['#copurchased'] > Customer_Customer_matrix['#copurchased'].mean()]\n",
    "C1_2=nx.from_pandas_edgelist(Customer_Customer_matrix2, 'Customer_i', 'Customer_j', '#copurchased')\n",
    "C1_2=C1_2.to_undirected()\n",
    "nx.draw(C1_2, pos=nx.spring_layout(C1_2),node_size=20)\n",
    "plt.figure(figsize=(20,10))\n",
    "plt.show()"
   ]
  },
  {
   "cell_type": "code",
   "execution_count": 39,
   "metadata": {
    "collapsed": false,
    "pycharm": {
     "name": "#%%\n"
    }
   },
   "outputs": [
    {
     "data": {
      "image/png": "[encoded data removed]",
      "text/plain": [
       "<Figure size 432x288 with 1 Axes>"
      ]
     },
     "metadata": {},
     "output_type": "display_data"
    },
    {
     "data": {
      "text/plain": [
       "<Figure size 1440x720 with 0 Axes>"
      ]
     },
     "metadata": {},
     "output_type": "display_data"
    }
   ],
   "source": [
    "Customer_Customer_matrix2 =Customer_Customer_matrix[Customer_Customer_matrix['#copurchased'] > Customer_Customer_matrix['#copurchased'].mean()]\n",
    "C1_2=nx.from_pandas_edgelist(Customer_Customer_matrix2, 'Customer_i', 'Customer_j', '#copurchased')\n",
    "C1_2=C1_2.to_undirected()\n",
    "\n",
    "part2 = community.best_partition(C1_2)\n",
    "values2 = [part2.get(node) for node in C1_2.nodes()]\n",
    "nx.draw_spring(C1_2, cmap = plt.get_cmap('jet'), node_color = values2, node_size=30, with_labels=False)\n",
    "plt.figure(figsize=(20,10))\n",
    "plt.show()"
   ]
  },
  {
   "cell_type": "code",
   "execution_count": 40,
   "metadata": {
    "collapsed": false,
    "pycharm": {
     "name": "#%%\n"
    }
   },
   "outputs": [
    {
     "name": "stdout",
     "output_type": "stream",
     "text": [
      "{'2JPGNKUBZB29V': 0, '3MQXFVZ9DCE8M': 0, '3QVAKVRAH657N': 0, '14CM5XTMI0UXE': 0, '3KLA83TB7PY5R': 0, '30OHJRZGGAEBN': 0, '2CVVCODXDVJO6': 0, '2T6RWGHT3DIDH': 1, '33FA68V0NCM5E': 0, '2SB5Q3JFV72NV': 0, '38F5EWGF8SCB0': 0, '1KXONMEYYD844': 0, '3NG3IWQSNNMHD': 0, '1E7KNNJSENIO2': 1, '2O1FLF439GX3P': 0, '1796BFN7L774T': 1, '1AAND6JLJGCV2': 0, '1P8CHG38LLE0H': 0, '30ONBQ70SMRAQ': 0, '3P062EHS66OCE': 0, '1R6M05D5C2GD7': 0, '3VOF1R6F2SBDY': 0, '3MJMFLUR7KTO1': 0, '1JLEHQDIBJM2Z': 0, '1K1JW1C5CUSUZ': 0, '1PNE9GR9XCUST': 0, '18PCOAE02O3SC': 0, '17FLA8HQOFVIG': 1, '1UTGHJD17V3LQ': 0, '30QQPDAPOCO3T': 0, '3IKBHODOTYYHM': 0, '2DRWZHFWO174O': 0, '10R1WAP6HFFEP': 0, '1XTLPXADYVJ68': 2, '1BJLZ8UNAZX2D': 0, '1JFQ6FNTBQ2ZH': 0, '2Y2ZMVBOH4XVW': 0, '11RU07SQDXVLP': 0, '1D2C0WDCSHUWZ': 3, '1J3T31N142ORD': 3, '2XZJXTYTJ7J79': 3, '13EUSV15UDAUG': 0, '1XNXHTPQRACRO': 3, '3Q80Q6YFP5W6Q': 4, '1JTG5X4VHJV27': 0, '1E2EI93MJW6QK': 3, '395QKQZ15GP4F': 3, '2IZQPM1AVVOT3': 3, '17IW44FV0HUTY': 0, '1H72DULSEGDX7': 3, '1G9FX1KV45N41': 3, '3BH49ZKESHDID': 0, '3F36BIPHKRDP4': 3, '32TROEBTUQH71': 3, '1GUWFBWRXTJG0': 2, '1AISPOIIHTHXX': 3, '1D66IFUP4Z04S': 3, '2PCT57MWSAGX2': 3, '19Y4W9RZDRNF4': 2, '222OLA2TGW1HW': 3, '2BT578J4IZOK6': 3, '3K1RVYM3JQZZS': 3, '2NJO6YE954DBH': 5, '2SW2A3PE5RUQE': 6, '1YWUHRJDMATPI': 3, '1U98KYSKD7YUM': 0, '2SHQJP6PNQTLD': 3, '1PHX0108AUMRW': 3, '13IXC9527RHP4': 3, '2GBJQ9THOYDAJ': 2, '17YG60BK1FKGC': 3, '1CDZM5YMB61PD': 3, '3GJZT8C84V1NP': 2, '1JJAXZGR8HSA8': 6, '3U85M3JCZ5GJ8': 3, '3GFK7F5IUF60X': 3, '3JD07VHDLT5FF': 6, '2FEGRJQNU51P9': 5, '1IBC9XP2LICQL': 3, '3J7QTHYIZ3XQT': 3, '2MOBMVHECYVLE': 3, '14OJS0VWMOSWO': 1, '22DJ5SN3VFEC5': 0, '1IKD6BDEE18CI': 3, '2HM0BZWQRV1EF': 6, '2GPEV42IO41CI': 3, '172VRBP4BZXK6': 6, '1XTWXIMUCDGQE': 0, '36WD8GXQ5QCJ7': 3, '1B9VX6MZ0MZ1T': 0, '342AYZ5CYE5FF': 0, '285FDHJJR2WSI': 3, '14SACYHEX3RTR': 3, '37PV5GMP2ILJC': 6, '1SQ6OJFUIU17C': 0, '111BH1GN0D33Z': 2, '3H82LUT1EC655': 3, '3DE9GQDO6O6D1': 3, '35JZJ816DI0SF': 3, '2EP0QO57Y9YW6': 3, '1S3C5OFU508P3': 1, '1ERDXS0QLEVKB': 5, '3058IKNGS3JLV': 2, '2M89Y5RYSKCRG': 0, '3FHAMLNGHCFU7': 3, '3NIQK6ZLYEP1L': 3, '2CRUETJKX1WA5': 3, '1LVZOK9F7K4CN': 6, '1UC4NVUCNQL24': 5, '20EEWWSFMZ1PN': 3, '1TWTULVD6F22O': 6, '19JOVRJY00NMN': 3, '3KF4IP2MUS8QQ': 3, '27PSZX2SE0B51': 2, '1TZKV3WQNU3OO': 3, '2MAB5Q4XA209W': 5, '3DXVYD2TQHWGD': 3, '2ONJ81T2H96BI': 3, '27VJVE1SKAU8C': 3, '3MSB482DIB9SL': 3, '2CR57GAJKNWVV': 6, '3MBJ9TIYG91OL': 3, '23ZP02F085DFQ': 3, '2WZON0QPX7C9X': 3, '1CIW2OEVAJRM2': 3, '2F3M93RRLFQNJ': 6, '1PEKEZTSDJAVH': 4, '1HJZL0WKCOTSF': 3, '25NE4ZT5J6SKE': 6, '1RLYOPK16YXC1': 3, '1QLUP86XSAK24': 3, '3ARV0MHB509C9': 3, '21Z8FUB9IZI2L': 3, '2I6MHMAZZDCRX': 2, '3MCQSIBV7QW8Q': 3, '1EKTLUL24HDG8': 0, '29CUCGRX04TS8': 1, '3DQWFWINN3V5A': 2, '2ZILNRU582ZIQ': 4, '1MX5VN3BHU870': 4, '2EENLV6OQ3DYM': 0, '1RECBDKHVOJMW': 6, '3LNZKV31R04C4': 1, '1WT3TVHANP7ZF': 3, '2T47C5XF9FQI7': 3, '1XR9I4X2U6SKQ': 3, '1PXH6NS60C8V5': 6, '1B38S1YJR1PQD': 0, '24007MXGDOFZR': 2, '21Q4FWNR7LOCO': 0, '2GAP7XWBZU8QI': 5, '2O5RT4RCC4NU2': 3, '2B1GZIRD6W646': 5, '1E1KVAGZ8AHJN': 1, '30AO422P01XK0': 6, '1VV7MD14UNIAK': 3, '3NR6YPZDDTR7W': 6, '3W4QDS6ZMHJYU': 3, '1288XI5LO0J76': 3, '1V8NBMG0PDVK1': 3, '2CW1R89Q4WJ5S': 3, '177XBNQ3ZPBBI': 2, '3C92MFCGLHDBQ': 2, '1EQW0SAORNLDZ': 6, '2QRB6L1MCJ53G': 3, '319SKSB556033': 3, '2HPUBAJYTJKLP': 3, '2DP7J80MGZG1H': 3, '3MKDM7UE1XGMV': 2, '3QMA1U2R6WUEB': 3, '2QL96SGZP59SR': 3, '1ARA52HB238HT': 3, '1ZOJKJDD4N77V': 3, '3LVJAERSYW90Z': 3, '280Q86OH9DLRZ': 3, '3VYCKTB2B523K': 2, '1CBAXZIXO7PKP': 3, '17GUWG3UMK81T': 3, '1Q329PGKOGLDD': 3, '1E4REA11S1126': 3, '1Q6IGTQ01JAZV': 2, '34W7QA4J5UTOR': 3, '1FH9TBAO96PEW': 3, '2WETFLJM0D6R0': 0, '3T58627ARPY1L': 3, '3T8WIEYJ2C2GT': 2, '10EH95EUDO9W3': 3, '1F7CMDX6QDJVA': 2, '1LE83EHF50XQA': 3, '3UDYY6L2NH3JS': 3, '3GKPMHV4U64IY': 6, '3QSAOWAXR6NUV': 0, '1J46TA4YJ815Z': 3, '1EXJJQMOWNAUY': 3, '2ZESFCRJL7YA0': 3, '3KB78EHOM733V': 3, '1WFVX1RJPMN3B': 0, '1MTWGF1H69OVJ': 3, '3SMT15X2QVUR8': 2, '3HAVF948MNK8P': 3, '30KEXFT9SILL6': 6, '1FNUCH09U9YE9': 0, '1B05INWIDZ74O': 5, '27RSMM80AZUMO': 5, '22CXUO6B31PAL': 0, '16H6R58P7WWL5': 3, '17W60N2EFSY44': 3, '3CA3RWZYJDWXE': 6, '1S3IN6CSTBPY6': 3, '3HLJQCY6GKRVK': 3, '1WB1XQHCVPUEV': 3, '2C88GBH9LVSRF': 3, '15TNUM2PBS6F0': 3, '3SRWLRSE49P5L': 2, '26TSW6AI59ZCV': 3, '324LH8S4C8U4W': 1, '2Z7TU96G2WB9B': 2, '2C3OCAR30LESF': 0, '3GRU9732S4V1U': 1, '18PSYIYVGOU54': 2, '2PKL6DZZKP9JK': 3, '39N2LNAKIU23O': 3, '1GPGBHBI6T2HJ': 3, '1YMN50C1WU4E9': 3, '1E94T4GW7O149': 3, '1Y7OKNNDNTMC5': 2, '1VIN3IA2Y0OPB': 0, '3VQSFORKH8B7O': 2, '1MC6BFHWY6WC3': 3, '1JH5J1KQAUBMP': 3, '3K6SQ9VPX94G0': 3, '2MSOMM8D4XHDL': 3, '34XPZS5DXA6HA': 6, '32M8N92OKJCYG': 2, '3QZCA4LTTVGAD': 0, '39BAS6VFE2L5L': 6, '1H3S4KTB6QJ8H': 5, '1DGU560NXQ4RW': 1, '2M3KCY7DG8KNR': 2, '15S44J4NHU4LS': 3, '2S166WSCFIFP5': 3, '2F7KIN0SL00I6': 2, '1IO3LVYV5ZMK8': 6, '39YHD54RIZJTS': 3, '3HXWCV4DV8MP6': 1, '3W3R7OFQ6V46R': 3, '36WEPR0SKKP16': 6, '1W9OZDQML804L': 3, '3EXVTXP359GR4': 1, '2YCAIFOKNNS6T': 0, '18LZFWQ5C58Q7': 0, '29PID3J2CRSWL': 3, '288WWXU3NF5QO': 3, '1T3Z4LIM2Y7U1': 3, '3JM25YVLEE318': 0, '2CDA00O4MB1CK': 1, '3869CQLA4D5FP': 3, '2VUP5US1F5HG5': 2, '27FR2C67JPDRS': 3, '30JWBSVCFYXPE': 2, '2W5WK4GRCL05A': 6, '12D627OBD862T': 3, '2EOSNB9ZTFKHT': 3, '3PC1AF2KXUHCH': 3, '3M174IC0VXOS2': 6, '3SCXHDWVW6JD6': 3, '2AVYXBQ4H9XLM': 2, '33I4RCFITFXG5': 3, '21CFPWTCRTHFZ': 2, '1TDC511IET8A2': 3, '3DGB4HN3QCGAL': 5, '3QU2H85LA6OWW': 3, '1VQEAFW83OTG9': 3, '2OI5RQC4FNKKE': 3, '2Z9XBCYT3AHHU': 3, '3D6KZT0QG6UKB': 2, '3RP1I0SL7091Q': 6, '3AKWA5CWSKOOH': 1, '3GONIJHQ37GGX': 3, '2FT22FKKY7VRK': 5, '2NBOL825B93OM': 5, '2QP1HWWV5BRHD': 0, '1FW3TE0X7WUE4': 3, '2MW0RYIXMEYGS': 2, '26BWRBPP4V2WF': 5, '2QK0CLGM4Q0R3': 3, '27BY97QQS36V3': 3, '245J0P7H9GLRB': 3, '1LVMQ52YODRMO': 3, '1Z81GM85KH5XS': 3, '3M77GPST0EICR': 3, '26PC6A130JU4T': 3, '1FTNV26W58U5B': 3, '1QIQE5T1GBK7X': 1, '1UGAYFDPX7S12': 2, '2CYDCJKZ7F0IO': 3, '38HCBJDXTSWKK': 3, '3G2W8WUYKTW8N': 3, '3KDWTJK489NTM': 0, '3VHW9PESLU9RB': 5, '3EKPKB3DW86EI': 0, '3GMH9FD8092ZY': 2, '2TUY3OP717306': 3, '3KTN1Q5DDWDXG': 2, '3AY3EV2MFRFGG': 2, '2NHD7LUXVGTD3': 3, '2WBNKY07V414Y': 0, '1JJOV69MAU2J2': 0, '2VYK77GNFJDMS': 2, '3JSDV57XPD937': 1, '3C48SWWS002ZC': 3, '2G7JFHNUEC45G': 0, '2PBKFCD7YI23H': 3, '3QSFDDEMA8XKK': 3, '18IZDWUIHLUC9': 5, '39837HXPWMKSU': 6, '3FPZ5Q14W1J6P': 0, '1HO9J4DCQDGP9': 0, '2UX50TXIIOSUR': 3, '3UPFTGAWZ3G2R': 3, '3L1WSK1I3W4JU': 3, '3BUFAGPDKONX1': 5, '3GT2VY34AXBOJ': 3, '2ASEBCEN9ZWTZ': 3, '1IU7S4HCK1XK0': 3, '3NUM3JIE6II0F': 3, '3KW0P2GNN5FK4': 3, '1V4JMQF2NQ9AS': 3, '170UFU3E7SEBT': 0, '1CYRTQ04LYI55': 0, '1S8AJIUIO6M9K': 0, '3646C0WS9JPSY': 0, '1KEP5RI5T0QP3': 0, '16IITISD2LAX0': 1, '180TZ6CUVED7Z': 1, '1A4URTS77JHWN': 0, '2EYCL2ZT0PSTX': 6, '26JGAM6GZMM4V': 0, '13T70B27VMBGD': 1, '2ITEMEL0DTX8A': 1, '1WDUGOXQ0PMS2': 1, '1ZH086GZYL5MZ': 1, '1VCG7N8BV7XWC': 1, '3O9LMY2DTV2B2': 1, '2NALBZVRDPWE3': 1, '36S9RWO2EUIAR': 1, '185B1S2XBQXUK': 1, '110LO9AG0AV65': 1, '1SOIZ679IZBG2': 1, '2B9Y0WXNSN17U': 1, '356TJCTCLDN89': 1, '1SM9GF9L03PL1': 1, '25AMBAAZLNTQT': 1, '21JISQCOQ8JX2': 1, '37UENS3VQH347': 1, '1FT7QFKNHL9DT': 1, '2VD3CYOEMJ6SR': 1, '17O4SUXRLN5RZ': 1, '11FWG3GBQC6SP': 1, '2FS38D943KX12': 1, '2JGO57QEMUE7W': 1, '1GY5M157FD82S': 1, '2MV5ADA3568DO': 1, '34U6WKGEO82P2': 1, '2XN6B8H7ZKZ8K': 1, '2IE7YPWUYZAXS': 1, '2WMSDS6F925JV': 1, '355TRZ5WAZ6R8': 1, '2EQ74Y24BHHIF': 1, '2RPCJQ6GO2IDN': 1, '3S5C7Y0WT2Q9N': 1, '2LK52S7OCFFEH': 1, '3T7BNMUVYNKKJ': 1, '25SJMW1SMIK07': 1, '3BY5DTOT72URI': 1, '3SN9EF7GTNEU2': 1, '2AFT2VCH2S01B': 1, '25HYPL2XKQPZB': 1, '10R81SKUK3TG6': 1, '3FX39JGD8TE7D': 1, '213YFL3NCBSSL': 1, '2NFA5NNGE3M6X': 1, '3A22APMN8HS78': 1, '11PFS617B5WXJ': 1, '1GALZCXD8FHOR': 1, '2MIXD8BDAPCRJ': 1, '2XQ3V5CBVOUDZ': 1, '2GO27RUG1BEBL': 1, '2DFP33M345WBW': 1, '1157CR0T5UM9D': 1, '232JH3QRMO1AZ': 1, '1AFXJ8U72MD6L': 1, '3BR4RIE8HDY1W': 1, '31O7B59DW7OHR': 1, '2VF3BXFXXTEPL': 1, '2B2UAU2XCY6JY': 1, '1PDIPZK2HIH5K': 1, '2IFGGXG3YV3Y6': 1, '146H6A41B26QT': 1, '2CZNR8VUWE3Q2': 1, '2JL21V1CCW0RH': 1, '1NWBGOL0H6F81': 1, '11RIVBMZFG5GL': 1, '321W4SSC0F6AP': 1, '19X2X3884Q54D': 1, '18UA12GMSTT4X': 1, '3MWZHPNHTIZL1': 1, '20G957N2TEVQX': 1, '2GL9CD3H6L0QW': 1, '12G0C1T78B7S5': 1, '148XTAANYLCFN': 1, '1ZJNNNUNNVCBJ': 1, '1R9QOPV6HVEKF': 1, '1GDS6RWL2NYVH': 1, '1QXWHU2IET2WM': 1, '19K85MHYNGG6U': 1, '22LX6529JJ166': 1, '1WRAQGXP1W24J': 1, '36HHV1BL9D3GA': 1, '29HCY9OR3JPA9': 1, '1IAJSB5NKXHTT': 1, '2O71BU2LQ9NML': 1, '17S4W1BRIQ62I': 1, '25JH6CO4DVINS': 1, '27K9YA6UR30JE': 1, '1GS1EWH2DJ61V': 1, '3HETHW2XD3DWH': 1, '1IANEBSMVGHS9': 1, '25BZJU0ZAASK4': 1, '1FATTRIXTSTEB': 1, '1EKSBLRSDUE01': 1, '1BHAM76ZWYKQI': 1, '3FLRD99CN5THL': 1, '1S193XFXZ6MNJ': 1, '2PWB7GVV37W5S': 1, '1KN2GF8YDD4TK': 1, '3BO1VM9CSCWW1': 1, '3LGHL6FQWXH9Z': 1, '1YLJG0TWVI5JR': 1, '3OJAWIMUKNHTP': 1, '265PKLLZ83YYD': 1, '36MQW22BD8LJU': 1, '1U67SCS0S0IM4': 1, '20XRCOEC6DFJE': 1, '34RK32KGIE1OP': 1, '1JM52GL0KDRGW': 1, '2R2K0Y20PWGZW': 1, '25G9RHH3I4DKL': 1, '2O9HU1K7TCF7B': 1, '2T4MHPAV4HVLZ': 1, '1NEYE93FWXT36': 1, '2JTFKBSL19ZBG': 1, '1MJMYLRTZ76ZX': 1, '1WLEJWKJ3ZMBQ': 1, '27MSJH4529GRK': 1, '16RCCC0YK7M7L': 1, '2B21POKQ3N09H': 1, '3HG4SPN5MVZ09': 1, '23PBZNTTRNTFL': 1, '29IP4UFB6E5YR': 1, '35PU6DDT4SJXK': 1, '3UVPH05DBW5VB': 1, '2MSWQW6L9X18O': 1, '2O24Y49NLN0MR': 1, '1NXE99MCQR603': 1, '1SWK0WTMJP7D3': 1, '3GBMAJNL0YQ1K': 1, '3R36D0QBO36HE': 1, '1MBV67KC3PTH5': 1, '14QNWFE5S27A1': 1, '3Q77CS1DEQLMG': 1, '1EHITIFB0SATL': 1, '2C75MF4UPFH8M': 1, '2386P602G9547': 1, '1IOJE0W1NXOSE': 6, '3RWSSSJV0QFW4': 1, '36W8DKHMW2H1R': 1, '2IOL2YL1V2N67': 1, '2KSU7OOJ5C479': 1, '3TCC7LJXJLUA8': 1, '2BGJ6L23X7CWU': 1, '30WLF8RC1PI2G': 1, '3S87ZOPB3UM9N': 1, '2A6GWP1ADFEQ7': 0, '35J4XGRWXVZ00': 0, '3EUCPZ1LFBKO6': 6, '2H8O3FRGPUBN8': 6, '2E9Q3T876TQ6C': 6, '3OKST7O5TKYK8': 6, '3N0HBW8IP8CZQ': 6, '30ZPSYOGFJXR6': 6, '11M98R135HMSY': 6, '2W26AAU92CN70': 6, '200XNOWFDZ38R': 6, '2NYDR4JBIORZ3': 6, '1PHH1TNX5XYSI': 6, '1N01YOBWF8WDP': 6, '1IIX764GG3WNZ': 6, '17HRDEIR64ELW': 6, '1AKQMOH85TFGH': 5, '2I2LN0P1T0YJE': 3, '2FMUVHRO76A32': 4, '33F907OHFZ3ZM': 0, '32349G5K7VNCA': 4, '2DSXA1E02C86D': 5, '3SOVG3GIJ357E': 0, '1LP6O85Z894GT': 4, '1PPN0LFY0N9GA': 4, '1U0HC6Z37DUZ0': 4, '34ZM36508LG9G': 4, '1L9EJVWLESOWM': 4, '2YP9JBYNQV8OB': 4, '2VGKGXSG81KAS': 4, '1OXCREQ9XDU1U': 4, '2JT6BO9PW4Q8O': 5, '3IB1W0SVED0Z3': 4, '1M7N5V6W0Z0H7': 4, '222LQEPE7O7BV': 5, '3JV8S5MFX0FXH': 4, '2CNQ1JV16GHW2': 6, '2GSK08SWWOANK': 4, '18QAJI99ZEL8I': 4, '2RO3YWT6JPMGD': 4, '3N4CDTH72ZVDS': 4, '3RAPIRKEOO1MY': 4, '3M6TSEV71537G': 4, '3KY68OTSNHM3G': 4, '37F1G84K35FCZ': 5, '1YH3EG10DE3S2': 5, '2573PNLF4HFC2': 4, '1GSTCPM8NRZRV': 6, '2ZE73RFY0GD3K': 4, '1ER5AYS3FQ9O3': 4, '1D6PWUMDY9F7V': 4, '2JRF1TUVZ3V7M': 4, '35JTVM6A5T2VF': 6, '1U260B5RT98VK': 4, '359U0JFFZ0Q04': 6, '2000DWMMYNIYB': 4, '2D7J2K57YIC6C': 4, '33W9EI0X1A2BR': 4, '1KAR9G699RM56': 4, '136YD08SCJ2LV': 4, '19EWP1U3X1I2B': 5, '1A87TUBBDPMF0': 5, '2Z4KA3EFQWZOX': 4, '35444SKENYGGU': 4, '3APYWXL54R4R6': 4, '1U9BWPNNSJRTM': 0, '3R7IVE7QT09YI': 6, '3NFP78MGDC6ZC': 6, '1CHM200OEN65X': 6, '1IOR3OTTUK3O5': 6, '2RPIGO3G4M6GN': 6, '26MAEXDS5Y1HZ': 5, '3UR4PSRT5BHM0': 0, '3BHW1HS373MTH': 0, '3SJD66YQAF265': 0, '2CIDBNZBSQD12': 0, '2T5GLSYCXCMFV': 0, '1OX82JPAQLL60': 0, '258HDMERSI6WJ': 0, '289FQ3V2BLV77': 3, '1F8GH7CR68P59': 0, '1I6ZXLKEUKV7W': 0, '2L638TBMNPV3H': 4, '1MR1VMK999I6O': 4, '3ILPPZ9RBE1U3': 2, '1NDCI95LSJC5C': 10, '2KG8WLR1AKO12': 10, '3AUL23GMCOP2A': 10, '2QQHIY23PL7H3': 8, '2INX8B6VXUVW6': 8, '3BOZ48AFX82E0': 0, '2HQ8RTAJYEUJO': 0, '1D8HRZ7J9M0LM': 0, '2QHM5HBSIXRL4': 1, '2XKYZFLGMDMWV': 6, '3MUDAYXE0ANVM': 6, '3KCMEJTRQHNAP': 6, '18M68DE1Y6W51': 6, '1BI8PUEHA5CHW': 6, '25773EBHHXMXF': 6, '245DYNGCYPCTX': 6, '3AU9FL6SU1JAM': 9, '2IIDELWB0IWRO': 6, '2375TJ8NZVA4I': 6, '3E3A1U807UV4E': 6, '3KXV8AFQ550DY': 6, '1VHK9A4VLJTHC': 6, '3P3UOHYBFRGJN': 6, '2CVXUY1EYQGGA': 6, '2WP0GOTX13MG4': 6, '1E16W37PGZ1RW': 6, '2ODBHT4URXVXQ': 6, '3PGGI7A6XCNF1': 6, '2CAERK0CH6OKP': 6, '1M5WKSP4N9WZI': 6, '3VMCKYN22X0CO': 6, '3AZ4O4I9S4668': 6, '1JYOLEHTOY2KV': 6, '1RMHZSWZ7ZEQO': 6, '399OIST9JM8H9': 6, '33HIQR1X1G4GI': 6, '3LYLRNW15DPU6': 6, '111W7WHB093J4': 6, '3LZGLA88K0LA0': 6, '2QSRP25LFCQ7X': 6, '35LKYJCZNAEHN': 6, '1HS9F7J51E9CB': 6, '3VR3L44Z7HKVA': 6, '1LKSZ9CYJ6829': 6, '2GG7QVUFBC127': 6, '33ZP4IAP6XHMF': 6, '3IW84ATS262BC': 5, '315FEDFXC1RJH': 5, '2F6SZLKG0TOJ7': 5, '1Z5Y3IH6V6EPG': 5, '3PUCPZX3JYUW5': 5, '1CJ1Z4OO41U85': 5, '1BELTEQT1166S': 5, '3DDCPEJH7Z16U': 5, '22GHD1G3OQTED': 5, '2SC07XHKKFDVX': 5, '1X07KG3V45VCF': 5, '1QMB9TDFKGUC7': 5, '27323IMN6PG55': 5, '1JJKAM7W7WND4': 5, '12N9YU5K516JF': 5, '2J77OWWK34NB4': 5, '3PWNMQFE88NBV': 5, '3ODGDDQOW0OPQ': 5, '1F8JG3FFF7I10': 5, '3K3B4Z1DWVCD8': 5, '1QMF30QXOF00C': 5, '1PKYBWMTEKKTO': 5, '34XGN6Q0E7IX5': 5, '2SRZQU1SZG4RR': 5, '10I14ZPE23RMC': 5, '1S9MELT25XE9K': 5, '2MCOKNU34YR5Q': 5, '2RG196AKOAB80': 5, '2Q6QHKMLSEIOV': 5, '1PYQRKHLCO0WH': 5, '1CHSP7NKY3YB2': 5, '2UIOOQNZB5L6L': 5, '1XLGJJDVOHOXK': 5, '2DGM8XW30DJLG': 5, '1FA796S43G4UE': 5, '3EBJDOY28Y73O': 5, '2MJHJ3VYTS7V8': 5, '1J1S9E53DNAP6': 5, '2N6AAQX0QW3MI': 5, '2TMVIO27RAN7I': 5, '1CYRAAMMWS2N2': 5, '17M90JXPKJU0O': 5, '2W7WTNUQRQE7J': 5, '1J7PXT8C9VGF5': 5, '3MYU99YQQ463L': 5, '16723ZETJAWIS': 5, '3AXGJLEGKER3X': 5, '30TLVHJDN1Q88': 5, '2R5B3ULGMXSLQ': 5, '2S37P50AYCUYV': 5, '2Q1DC4SR1K18S': 5, '3KLO0I1O94HQS': 5, '2GC8XM9LH8SDL': 5, '29SPPDT4AQI3G': 5, '2YWY37087FGJW': 5, '1XAZ82K7FKL69': 5, '2I5406XT0H9VD': 5, '1FF6KD07OHRFM': 5, '2DY6JBFJWK1GY': 5, '1SKNS2DGG46XM': 5, '2I0GHZVGW5LXJ': 5, '14UM7LOF20W6P': 5, '3TACUY1UUXNN5': 5, '3E4P0QU692GN6': 5, '27WFYW9ZJ5DN1': 5, '2X9XKFB18UQCU': 5, '3AAL5TGOW29X3': 5, '2GOTY2STOMEAU': 5, '37XE43JR03AFN': 5, '3DQYE72MA8K28': 5, '1IB4Y72W0ITHG': 5, '2AOZQ3WTNVVOK': 5, '3LVINHBS822WD': 5, '1VJU3NG5W15L4': 5, '3VEU5KCFAU53F': 5, '2K28JHMIY3XKZ': 5, '2TK73L6F0UFFU': 5, '1O4O1JNHN0Q0G': 5, '33YJMS05FAG91': 5, '34LBIVOOIEVJ3': 5, '16DPRE4OYKXEZ': 5, '1YVO5V1SO18DZ': 5, '1EI65WJC85U68': 5, '1R6ZVBGSOPLDW': 5, '2Y0UFOTTOTQHR': 5, '12KKY5XPA7OGT': 5, '3R9M0IIAZLMBB': 5, '3JPOMRRB63CIA': 5, '1GOB05IIQZ84X': 5, '1J5AYDK0M9T8L': 5, '2XRMQA6PJ5ZJ8': 5, '34PUH7KNZ9HCJ': 5, '2YIMB2LF7HH1C': 5, '2B5G0HOXSVV5N': 5, '2275VOWF4QC2X': 5, '3DTNE2TFEBB3A': 5, '1F6Q5Q0U6MS5X': 5, '2AU6GEGR1JVFS': 5, '17XW4ISFV95NU': 5, '23SB6VGGB9E8U': 5, '27LXZTW0PR58P': 0, '3GA09FYFKL4EY': 10, '1LIYCSF2MDWFB': 0, '2T2OVNIRFWS4R': 0, '116J8AUC3JSN2': 0, '1UT1CSKPP8G37': 0, '3S9FDZSHZW79Y': 0, '1VM6A7HC6CEIH': 0, '3DFH4CKPIT0N9': 0, '1Z54EM24Y40LL': 0, '3L2506W8QLD2Y': 6, '1L8HRCM60W0W7': 6, '1DYQ36T1TRPML': 6, '1GC9A61EUU5JZ': 6, '1TXX4THJXYAIM': 6, '1HJKP5SSYZTMP': 5, '17KBG8GHZF7X2': 5, '3E4KN9Z5UI9N5': 5, '1GBOCJ943SP8R': 5, '3GLNPRYRBWEFE': 5, '2RT5N7CPWI0YD': 5, '3UIBMHZVJNF8T': 5, '312RBQOWDZT1N': 5, '2LAS1VYM0UICB': 5, '1DMOR9TUO13I1': 5, '2PNVJRDYU873O': 5, '1HLJAZ1J5MMAB': 5, '29E0Q47E8CPPO': 5, '3SX5KIWNH9IJD': 5, '3QWNQ2WA7QZYJ': 5, '2D2AARS42KIO5': 5, '2LZ98NT17B32Q': 5, '1OD7Q9IDU0EU3': 5, '2H30PPNEOSU2O': 5, '176KGD579G2LH': 5, '3S555W899OJT7': 5, '1YYDSYUCHX5HJ': 5, '2KB14WCZ1DVE3': 5, '3H0I8UMCFTWFR': 5, '2988B52PKKNHL': 5, '1AY9YCE3TSRU9': 5, '38IJILZLSH7F7': 5, '18PXWRX6VH5D8': 5, '3D9VXSUDX8J36': 6, '2887J6P8VPB5H': 5, '18YY3ZONN7QEP': 5, '2JA9LYSXZES1A': 5, '11XT24G3PZ8CQ': 5, '2JHL1ZWDKJ7C5': 5, '2MAIDM97Q1WL7': 5, '3NNQL8PGWP33S': 5, '2BE8L3743B0CE': 5, '3GO4IQ2FS2RTE': 5, '3KXFQQFBPJTQE': 5, '2AXQJDHWSJKCD': 5, '2JUMQUP5OBQWA': 5, '24902ORGG82ND': 6, '1T17LMQABMBN5': 6, '1AZ64Z84RY52T': 5, '1EBJ93E1T50RT': 5, '3OY7Y5FUR4ZBY': 5, '28OYSCGWICXB9': 5, '1FKLSRSKUNNMT': 5, '1S1O3YT8NS68A': 6, '3D6TFYRMIV3ZL': 6, '2XN8ZL4A5KMPA': 5, '16C654LADB3B3': 5, '3JRLZW4U5LDTW': 5, '260X99UW6HA9Z': 5, '1H24RCQOCGGNK': 6, '1AV32Q6I8M1LX': 5, '25P3N6V8ALAPL': 5, '2HQ9VTZXKQ3BF': 5, '1U003HAB7F6G0': 5, '1NPNGWBVD9AK3': 6, '20MN959ZZH2DU': 5, '2YRLGJE13FUK8': 5, '3Q4TYJVAM4IRM': 5, '1PL52Z3VDUSHI': 5, '3M0YP958H2KRX': 5, '3SFETHRODPP8W': 5, '3CWEK9HY2VPDL': 5, '2H2ACDVOPL0SS': 5, '1B9F8RI3XNWH1': 3, '3TNAC1EWMG39T': 6, '35M170AHULXN6': 6, '1X6AT4VICCZLD': 6, '1Z1YNKLZHNCJ1': 6, '28GEIVP5KQMZU': 6, '3VZH0PWLQ9BB1': 3, '230ZS8F6I0AGM': 6, '2I3I0E3NR5I5A': 6, '3AKPY4LXIC24O': 0, '18CJ94BGL1LL2': 6, '2PRVXTFMJGQ7O': 6, '20MY9UAZ1UKHB': 6, '319KYEIAZ3SON': 6, '18MR55B2UH0RK': 6, '2UMQT1HJTEQJF': 6, '2ORDVE96GL3Q7': 6, '2MF2QVSCUI27G': 6, '1T9MILRRZ00F8': 6, '1RKD1I8MW1LG6': 6, '1WTYALNQNQG99': 6, '3VVDE8I22IAJA': 0, '23GFTVIETX7DS': 6, '3NW0ATNNBBK46': 3, '1DJMMJ4OQ2712': 3, '2ELT9NS0Q8W9L': 3, '2JZJL8QXXLZ12': 3, '1BYOKDSVRBDQX': 3, '37EWN5SS67OOA': 0, '16X61RLY1YJL7': 0, '2QA9K9Z0XRR0D': 0, '3C0380R9NMLHD': 0, '2SGX1N0W605KV': 3, '2GG3731QK7BWV': 3, '16QODENBJVUI1': 0, '3FJOQ23K5PQB8': 6, '18AK2LLQU80SA': 2, '1XL0V4IAXXSRP': 6, '2H27QB13MDOLB': 6, '10795OBCFM52U': 6, '3URICJ7AL8ALE': 6, '1A58DW45TQZMX': 6, '32BKBCXDVNR0S': 6, '3DWUM6SN3N3NR': 6, '1HS3BUBNZJJD6': 6, '3R74PWB8GY9NS': 6, '28P34VB5AQPEY': 6, '13Y8XNB8YC92D': 6, '2NPKHJ4CVIIKG': 6, '1VQZLKA2C7MG7': 0, '39NS429FYXAD1': 6, '1RXGGZO38CIV2': 0, '1ULHWEZ883WBX': 0, '31NYJYPOHJQOA': 0, '1J6ZAAF9EY6YZ': 1, '13FZO3LEM4W8E': 6, '1F38YS15PWMRQ': 6, '1R602SXNGOMJ4': 6, '1KI5R0BXOYVKA': 6, '2Q8C36797Y7VS': 6, '2EDZH51XHFA9B': 6, '3BJZZMJE4L3I8': 6, '1BE9BAF6CDNI8': 6, '10KKJMBY5L7TK': 6, '355B9HM87SFHE': 6, '1A535W556ROBQ': 6, '20HMA36ESANHC': 6, '359IT81FBX64Y': 0, '3BELH1EUUE6RQ': 6, '27LJ7PPIDJCCP': 0, '19D816DMGI44L': 6, '30851RPTL4ORK': 6, '31R7SO1NATXVZ': 2, '3BIFMT9SH4J48': 6, '1G56KHOUOFWDW': 6, '2M0P6W13XWQDY': 6, '1DQZBHEU98PBT': 6, '1KIF12AT2EPS6': 6, '2WZQ7TKY0XC5O': 6, '2J0C6R7VT8YYS': 6, '337FPRR286UHD': 6, '1J2LQPDI4NKRG': 5, '2ATT6LVGEAC5B': 6, '1WEMAXZ2VK3UH': 6, '1S5730H97QOLG': 6, '2WMY6B3FS3JR8': 6, '2LZD2IJTUESXX': 6, '1OL4KPWG2794I': 6, '2DN7CMU79CQMZ': 0, '2F4L44P7ZCSOB': 6, '1RAUVCWYHTQI4': 6, '1QN4CO0P3TI18': 6, '328S9RN3U5M68': 6, '1LALF52UHB6TW': 6, '1UT01TU53Q5NV': 6, '1X5D5WYHKFUGQ': 6, '2WZ1B92F81LJJ': 6, '1WPQGUYP0XI99': 6, '2CSNTGQ0A3IRN': 6, '3TGNIQ0R3V6L7': 6, '39ABKRS1MKFTW': 6, '3W4GJR5CCADBX': 6, '3T4KN9XO3PIXG': 6, '1Z68BOQ3H5FCF': 6, '2VG0RY3EUWZKB': 6, '21APQHFK19BLJ': 6, '3CH1KT8XQE8SA': 6, '2YF9CRYLMUS6L': 6, '3D7MHV6FTCKW7': 6, '2HR1Y2FK5KTWM': 6, '29SHFBU5O9BWO': 6, '3RYBMVQNIU3R1': 6, '2SQ8RWVDEZ4RO': 6, '2ON63MUE6YO0W': 2, '3MOHAYDKS7SG2': 6, '2RLERHASR0RLP': 6, '10Y3OZWENAQ6W': 6, '2BKJN9YIGI5OX': 0, '2UI77M4D1DJ0I': 6, '3P98VEVNJG4KT': 6, '1RSWFFYPY9CSW': 6, '2FQWV725FGE8S': 6, '3TMM0LPFCLDCS': 6, '21LSD00VIAXYO': 6, '16VAOIHND908J': 6, '12MZKD80BQI2K': 6, '12XR2KE0J7TUG': 0, '3CYDHL8RCOK6K': 10, '1EJPF2NSCMCAY': 6, '3SYMLB8JSW5VD': 6, '20BN9PWUU7ITV': 6, '3O75PJL7R0Q4U': 6, '1JV4QKTEB7QBL': 6, '24QB5BF3B5A9S': 6, '1UCPXUBSESD65': 6, '32O5FZH994CNY': 6, '2T1UU92J5C1DR': 6, '2CWQW5MCYL10J': 6, '31P3KGOIU2GFW': 6, '1J0YNR1SSFCVS': 6, '15Q7ABIU9O9YZ': 6, '2F6N60Z96CAJI': 6, '21QH2E3KFVMBM': 6, '3RZU6MUEDCQYX': 6, '2HWD9PTM7RBXN': 6, '1R754POQNJO51': 6, '1REGC61M34ST3': 6, '25E44CFFC4B7T': 6, '165QKWMPJ9JE6': 6, '3RMCI57ODVHDV': 6, '1XGJ7TLP5Y3XC': 6, '3KNJ386MRBPZC': 6, '17XW1EB8DF217': 6, '106E1N0ZQ4D9W': 6, '2PWUIQG57O1AZ': 6, '1CQJZSI3LK1VS': 6, '1OSPY4MSOLE5V': 6, '2TVGPOJXTPOQR': 6, '3DHZEFZXAUDH2': 6, '1V3NKXYRA37T6': 6, '18URP1YKAD79S': 6, '2P50TYDCV61AJ': 6, '29RUNZT2H2GCU': 6, '3OIC7GUFY941R': 6, '2F3E5COFR0QP4': 6, '29NUB3P6YIWZG': 6, '1U2JVA33DR6S3': 6, '3HTKV1AW14EDB': 6, '2BAAKZHSUGCDP': 6, '1N070NS9CJQ2I': 6, '25LISE9S31M00': 6, '30H2335OM7RD6': 6, '1ED4H8T6NXF9E': 6, '2HMHN6Y9VX18K': 6, '3NJJZ5NB9LMR3': 6, '1N1YEMTI9DJ86': 6, '1PZ49DYZXWKLL': 6, '19N3GRTJ0S8J8': 6, '1P65LG7IYI8RK': 11, '3NLIWCBDV8Y4M': 11, '2FV4Y4I7BBL6I': 11, '2DTVRYC8CL3V8': 11, '2P5W0UKBA7PZS': 6, '2HR0DJG4WMR8R': 6, '15D1DHDS7NQN2': 6, '18OU9K12GXTKL': 6, '2SH7OWE8QJYNC': 3, '22DUZU3XVA8HA': 0, '3TG3GWUYH8NKW': 3, '290JZU00TFS9D': 3, '1OJB1AQVIKFG1': 3, '3FPS27DXXR2UA': 3, '283S79R52LU0I': 0, '339FFCC9RNYLR': 0, '34RCN1URH82H2': 0, '3736BWUT7IKUF': 0, '3NBLULHHFCN2G': 0, '3OJFPKMCXKOM0': 0, '1Y25XPHTP5BYC': 0, '2I17T9XB6LSGW': 2, '1NC9AGZOBI0M1': 0, '280GY5UVUS2QH': 0, '16SLN8OIIK78B': 0, '34HU36L18BM2C': 0, '1FEEFAK5Y45M2': 0, '1VRIXABC0F66R': 0, '1YOKD53RRYCHT': 0, '2CKCSBZJ19VYI': 0, '151XCH6MEQC23': 0, '3CFT5LHFCB46K': 0, '18I8EYPJK3XMA': 0, '2O6AIFJGSN07J': 0, '3FBU2QDUN0KFQ': 0, '2H1W8V6R9TJ9E': 0, '218Z73QCWIALV': 0, '2WSI8HOWHFDOT': 0, '2BHWOS5PUGU78': 0, '2V3P1XE33NYC3': 0, '101VYVQR1Y70U': 0, '1JIPFV4OL520T': 0, '2MG6CDK3VJVDM': 0, '1O0SVZS1XGICI': 0, '2H5CS1TWZI353': 0, '2BKCDJ6KOZMFS': 0, '39VBJYBB5X3B8': 0, '25CZCHLNH3OMO': 0, '2INKWOM94ASQ6': 5, '3724AWWE59P3F': 6, '1H1LD14NM2VI4': 6, '3KIAAV855TXMR': 6, '3OG136AP08MLI': 6, '105E427BB6J65': 6, '3QY27FQHK453B': 6, '2VU7WW0V4X83G': 6, '39239F78V03U4': 6, '3CGHNW5QZKN82': 6, '1GARI2JT6EAWA': 6, '2XGB66EPSFIYR': 6, '1E1JHIIX4G9IC': 6, '2Q44AF3F4XXKJ': 6, '19P74MFJ32GK0': 6, '2HY8WQ09FM7AT': 6, '3B086LGMBTXEI': 6, '3L3ZJJK5O77G4': 6, '3RJ6DRZL8C1BT': 6, '3A2MAZHMUE6O2': 6, '2I32660RVI39G': 6, '1WOPE3LTPIM6Q': 6, '2LYH0V6E6N4FP': 6, '2UN4S3N7VYLEV': 6, '3DE1IYJGU5HPW': 6, '3ITNZJ32UG7Q7': 6, '3LJSF0LV5QRYT': 6, '3H5B0VL4SHMDW': 2, '3EREZUA8JWPJC': 6, '1TONI9A0YFOD6': 6, '3TY689UW9FUYZ': 6, '13CLRLO9ZB9IA': 6, '3O60C5513YYD6': 6, '2HNKADAUAXTQM': 6, '1FNVKWRT3KLSU': 6, '37PI0XFQGLCSP': 6, '14EP5IXSQ9X81': 6, '2BZG0B6LPUDHP': 6, '2K7BZAL9BB92F': 6, '19R2MO4YZ1IYB': 6, '18HWDYD7HXGCS': 6, '29IYGR7SNPRIV': 6, '1VT804QG340FV': 6, '13O359A2KX7YY': 6, '2M297V5FG6AZ5': 6, '3NQU1649SH0Q4': 6, '2XIZEBB2KS0YJ': 6, '26FLDHU1IHRUO': 6, '2XZPTPX1J1VN7': 6, '32VWSQ0FPZKZ3': 6, '1VWSR1H2Y67UD': 0, '16A216K70M9P3': 6, '3M3ZSEP3JL3GS': 3, '2UNOBCGU92K94': 0, '12HCU3QCTQ2XT': 0, '1PQTL9OQLEOVK': 2, '2UIXU97JYCPZG': 6, '1GZKHEQWTS4Z5': 0, '22YZITW8QH71W': 0, '2TZKXU6Q0EDNP': 0, '2VR6MIAADZGML': 0, '2111OTLUHKZIR': 2, '2KOEE1CB1IOAV': 6, '19BLS5PUI3YRM': 6, '11E4SSDIIBHZB': 6, '1U6B2LDK3BUVU': 6, '16FRXLHNJQFXA': 6, '2EVEO8Y8GOXG4': 2, '387TN59UFXG0W': 6, '39MMTSRCSPCYZ': 6, '3SQ5LI1Y8SK6J': 6, '15OJEJ290I1YK': 6, '2TDK8D4HEMUYW': 6, '1MK64ZY9TNWRS': 6, '2RWPT2EKZ5ZZD': 6, '2F3SXHT6RBV81': 1, '1TPW86OHXTXFC': 6, '36AIK1DQPSRNT': 9, '23US54A0OILE4': 6, '3DDJ58FY7KY9H': 6, '2RDR5G65D9H84': 6, '3L87CEIAQ8YFU': 6, '39AWL2FKWDFK6': 6, '1G1HZLKPP4RK0': 6, '2EMP366TTS6E1': 6, '2HRPFBYBZ4RJ5': 6, '2V5MQELCPW5WI': 6, '1KGWUYXUBEMB2': 6, '33TIRJ402JR5N': 3, '22XVTTQZ28AJV': 3, '1EDOWER7RO6KZ': 3, '1KLG8F5APLM2N': 3, '3LKWMM12AF0PU': 3, '3VKBAGX9HG55B': 0, '1ECF4HZLRYY4Y': 0, '1QW11LNX6QTE9': 10, '3EJVZ5LCBP61X': 2, '2K40JBQHJY1HH': 12, '1E96Y02P5AQPL': 3, '32H7J1OCYEXCH': 3, '2VCGJLKGK2WJJ': 3, '2NNTNC715AJ50': 6, '19A2FSJL9O9ZH': 6, '3B4BCMC3O3GF2': 6, '39Y24DNKMZ97W': 6, '1J0D1K4NDNCOR': 6, '2DKA8PMGZFXME': 6, '2PSQUSTY0YAR6': 6, '1W1XJLSLVJIGV': 6, '3J0KTXHYY7LGW': 6, '2FIZGPE7LII43': 6, '3P299160L6X9N': 6, '3OMS9O2NFAOP9': 6, '3O265XHPOVKEH': 6, '2SH17ZKPJNI76': 6, '2T0LI9JT45VA5': 6, '3FEMJRB8SWU5H': 6, '3RBRFFNAB2UWC': 6, '3RTKL9KB8KLID': 6, '2WKZJOPHIL2HF': 6, '3GBYFHV14WPAT': 6, '3VHENWK5MI0PD': 0, '36T9UHGZSLLJ8': 6, '2P3IZPG7ZJH6B': 6, '2A67FSX3SB31C': 6, '10LWBOIZCF2QT': 6, '34UTL4AVX80MK': 6, '3GK9LT41X73NC': 6, '317CUPDD6NKJN': 3, '254R1T0K6CLP6': 3, '3J4ZO1MBTQD7Q': 6, '356HHSZRK0LZ9': 6, '3EUDZQPSJ29EY': 6, '1BSD8ZUZ28A9L': 6, '2VD2D1QHCMF9Q': 6, '2QBHNK9H2SVRJ': 6, '1IWWRZJOXOSYP': 3, '1F54ZJJ8EOEA9': 3, '3QYW1CL3A9L5P': 6, '3AOW3FA6INUUU': 3, '3KOZNG3TONHBW': 3, '23OLHL5RPQKLP': 6, '2OG83SEU9HL6D': 9, '1NNA1FHWP7YQS': 6, '19OQ7LWE2YJL3': 10, '1YP8CZ7TBHPY7': 6, '1L43KWWR05PCS': 6, '15XY6GGKD3B6D': 6, '100YHBWL4TR4D': 6, '2FERJ389ECM0O': 6, '2KUU0E8JWSMV1': 6, '3J9R2KTIP2M50': 6, '1U1QNZ7FT6JLG': 6, '1SBD9DH8EGNUE': 1, '3PV1XZLT8GO82': 1, '1NATT3PN24QWY': 1, '1TKM36EYEQNSM': 1, '2RELWKFCZRB8G': 0, '1EGV5RPMQW4II': 6, '3NC6OGGAZXVDS': 6, '2M7RPFEMKRT8M': 6, '2FR8GG77M4TP7': 6, '3Q9KDKQ4C5XGQ': 6, '2BCIAH2TIYVQ9': 6, '3LLZBNZ30S2ZN': 6, '24AEU1FZXZX6Y': 6, '1XXJ6I7K2I7SI': 4, '3EQQP0LD4Z375': 4, '15NS9ERV7LT7A': 4, '2J6XMFTVK2PVR': 6, '2RMUH7O7PBYUL': 6, '1MXO11GL94AX9': 6, '280AE65KKPUVM': 6, '2R47YQOFGI77Y': 3, '19J55RZZ4K5UE': 6, '108AVF62U97NY': 6, '2ZHBGPYUOFTZG': 6, '1FZN3AHV3LIBM': 6, '1U0WO33TVDE9K': 6, '1C7XMDV4GHYFM': 6, '3H9BN1O9WZHP0': 6, '1241U6QCSX5YJ': 9, '2VKWLCNZF4ZVB': 9, '11NGGHK1FU0XV': 6, '3LZYK8THI9EL1': 6, '1JI3HTPYSXA6N': 6, '1YBW71L9AZAC6': 0, '3QHI4I3IZE514': 6, '3J34FW6VJZWK9': 6, '1FAD1XZZ0KK6M': 6, '3LUUF8CAWLPHX': 6, '34974VMNZKRAT': 6, '278LVJFD4MJXZ': 6, '185H69S1490LG': 6, '16ALBDRKYUZ15': 6, '2SETXU4UY67C9': 1, '11YV6VC51HJTV': 6, '1I0422Z9IK7OX': 6, '3K1LK6DJCVPUK': 6, '3VKUBT80M3HY8': 6, '1IL6W1NK05UW9': 6, '2YPC9AB2E8RE4': 5, '34D06JL7LC6MU': 6, '3SO4SZPDNW0S3': 0, '140VFNVVJH8HF': 6, '2VZ11U5DXM8J5': 6, '1IE3AUEICJ7AB': 0, '1SYLII0808HD6': 6, '2BZCHIDR5FTYA': 6, '2KAVOGWK3BRB7': 8, '1AFKAV50TOB43': 6, '1ZAJCZHFV7OZD': 8, '3F3B6HY9RJI04': 6, '1M4NJYP0WNL8Q': 6, '1JLKPA3EPLFCP': 0, '3MZXG3YL3TDCK': 10, '3AWWBHFC7Z0KT': 0, '2ZIDS4HFXMWNZ': 5, '19MLEHXMXNVWK': 6, '15T4TWV79KGQI': 6, '3UJJGY799F76I': 10, '3HF6NQ541X7HW': 0, '1AMVA4R3G58TV': 6, '17BT73RVRQYSP': 5, '3J885XMTVB33B': 0, '29XLXNFF3M7NK': 6, '322FDYWIUVAAG': 6, '2KP92WSK7BPIM': 2, '2JP0URFHXP6DO': 8, '2HOLM5I1ARX9J': 6, '1RAFRNWOWMC3D': 6, '13E0ARAXI6KJW': 6, '1ZX985S49O7K6': 6, '1DYTDP6FO0JA7': 2, '2E16TB3W3ZJC0': 2, '2LZW8W1LHO06N': 2, '1I1GX2FJW6GOQ': 2, '204ETWOV23HO4': 2, '1JOU2MGJFLQ9E': 2, '1SZTJLZ31REH5': 2, '3VCIM49M8RDVC': 2, '1OB5L3WMHJAD9': 2, '3QFE1H3RUP6Z7': 2, '2QX766UGX2E2I': 2, '26KSBC3315A3O': 2, '38CXCQNIAS0AI': 2, '1RRC8IQ20GP76': 2, '2W93T2X3TDM9J': 2, '2WNPTIY4DQ3E3': 2, '1JS302JFHH9DJ': 2, '3FYCF0D96JP2S': 2, '2CFU983NRZHEL': 2, '3V10TJNFQM3ZG': 2, '2N56HD2YFP3CZ': 2, '34MMYJXYVKKVZ': 2, '3TIJC6L8USJ6Q': 2, '2AGS4CZUYT0TD': 2, '3RV3OSG41OQPQ': 2, '2N2R1B56IA7RM': 2, '1KTUXIOG8Z0L5': 2, '2Z8VKSQDWHSGE': 2, '21TP65G1SCGBT': 2, '18H3QWPEMZN9P': 2, '2YZW3PNHKLP2M': 2, '39FOAO2OB3XOV': 2, '3LSQB1BP8C14G': 2, '3BOUPGDLG7QPP': 2, '2PR70XCP996LG': 2, '3JOMD4YAKP5LN': 2, '3G01RI3MUWWQ6': 2, '2YUZKPLUYQDKV': 2, '2OIEHETU2GU8E': 2, '3V6Z4RCDGRC44': 2, '28WV71CJHCU9P': 2, '1CAA94EOP0J2S': 2, '3DR2VZACXHRIZ': 2, '128V0HW6HF0JO': 2, '1631PDU0WGN4W': 2, '3O9YQN5T7HZ89': 2, '34KZYE51A0A19': 3, '2U2GKORNOMWTN': 3, '2CZY3CEV23C62': 6, '2ZQZZ7A2TZBVA': 3, '2XYGJ7FAK0QR7': 1, '2D9IEFJGB483Q': 0, '1XCLLE7MKW7E0': 1, '3DHHQ2NGXOUAH': 1, '2T3KLY0CCKTG4': 1, '1GOI8745FGIDN': 1, '1RSLH6NHJ56LV': 0, '1Q0BX9CEKIY1I': 1, '1MLMKB0IV8B4Y': 1, '1JENWNI6Q5HXA': 1, '1ZPZNULFUAU2D': 1, '3KSBNXFCEY6D6': 1, '1FY6QTLSQ249K': 1, '20MBUOT9S7AEP': 3, '2C8FOJLS80R65': 1, '2D7FZE78VO960': 0, '2EC1IG3LOB0NF': 0, '14DV5W2N1EAJJ': 0, '1N0MCEPMT2VR4': 0, '1U20CUTG6I28X': 0, '1P0ZB4YAA312R': 0, '37XGUQ1VH0XM6': 0, '14CC5FIPR5YVF': 0, '1JFLR4GBBZ0TB': 0, '2MF338Q12XI3H': 0, '2VP7JOT3K7PFM': 0, '24M2KN27MDEXO': 3, '2B7BUH8834Y6M': 3, '3DPX3Y1MDE7ZW': 6, '2M95UJYWI22DH': 6, '2CBZMETQJTNEE': 6, '2HAPUSZ4S6FLW': 1, '3KBIVGH9HXIHH': 1, '1W6O6S41EVPG6': 1, '3V95O7ANPFG0Q': 9, '1EXM5J5V7I27H': 9, '14MS4ZLW5M3YW': 9, '1R97T1GMSRR8T': 9, '28WTZ2LOD2I00': 6, '2WM9MPKJ9B8T8': 6, '2SW5RNLY6HMDB': 6, '3AD071UEP20WS': 6, '3VQLTB724O77W': 6, '1XDC5F338E7HA': 6, '13OFOB1394G31': 6, '3QYDAHN8EFXUK': 6, '1PKEK312BQ374': 6, '2CMRG4TAFCCAV': 6, '18VICK1AMJS6B': 6, '373G0BH0VXQMW': 6, '2THU56YB588IA': 6, '2KKXV0HG92CJ8': 6, '1A8MUCKWC6K1R': 6, '2CRMJKSYBGRRC': 6, '1UMVK332GJ0PO': 6, '2PRVKJAFE7RV4': 6, '3J0JTAMLWEWCS': 6, '3HCPK54FATFO4': 6, '29O6DCI48RM95': 6, '3N6JG64P2G9EV': 6, '3SR4504YBYC1G': 6, '2HI7DLWKY4QFK': 6, '1A7VS5J7OR71D': 1, '3684EUAEHIV67': 6, '1H3H522WUOING': 6, '3EFCK0HZQPNQI': 0, '2LONX7E5LHCJE': 0, '24G1H61L0TQHN': 0, '2K4RNOAD5J3WB': 0, '1G703DCNYV6UE': 0, '3DF7LMEQOND63': 0, '2X8SXOK3MD24P': 0, '32ZKBXJJ45BRY': 0, '2531YUGRPORO3': 0, '1XWQ7G1Z4UJ85': 0, '2VE83MZF98ITY': 0, '2ACHVOFMAIQ1K': 0, '284V6FPAQ99AS': 0, '3048XU056O865': 0, '35YWA2V4QHOJ3': 0, '2JH15SN3J5MCJ': 0, '3D7XC7USJ9X7J': 0, '1N4IAZJAMIADY': 0, '2L12L13HKKC91': 4, '31ZO2UHW3V6ZV': 6, '17ZGD09I662YG': 6, '3N61N91YEIZ47': 6, '3FFE2Z84WV08S': 6, '2A872FUPBWG46': 6, '36RVX6XDQIAAX': 6, '2GJ98824GGXGP': 6, '2NQ9D0DAKV0UA': 6, '311NAIRZC7EGO': 6, '2GR1EUCFLK7WI': 6, '1ZMRGA42KX088': 6, '2N1ARMNZ6EE4B': 6, '2NOCWKISYGHHV': 9, '3A1A6KSQV2YVS': 6, '21VR7M8O55EF6': 6, '2JBDC1OR1KZGP': 6, '3AYGXMH34R18Y': 6, '3TEH90X39WC8F': 6, '379OQ6THHJKBJ': 6, '1MC81HLJ6Z9ZQ': 6, '2Q5T8GLIBJM1R': 6, '39QEKNEFSJ34Q': 6, '2SD1Z4OROY538': 6, '2UNZRO2TH86Q2': 6, '28M2N5NCQYQQD': 6, '1DGJOJ1D49YZ8': 6, '1T6PXM2M3N84A': 10, '2QT0KPQU671OU': 10, '2STLT852H9K75': 10, '254GNM79OFURM': 6, '3BNCOV38B0BB0': 3, '1DYXCF4148PJT': 6, '3R19YKNL641X3': 6, '1KSHTVEKGEJIN': 6, '35PLM0LLD0XM9': 6, '17LJTQBIVDSK8': 6, '1GVQPBREP7WS2': 6, '2X6GEC6LCDN4S': 0, '31JGKQC9JLPZE': 6, '2ZHB7E544QLLQ': 0, '1YIYEF36FW0RC': 6, '2L8CKS85VAX5R': 6, '1MRQUGR3IXV7T': 6, '36DJJ4Q8WSWFM': 6, '144H9ROEDG4QW': 6, '11K83SZ0W14CE': 6, '369SQ6E2IP3G5': 6, '29PPQ6NF24068': 6, '1DLQ64TCES0P8': 6, '3EZHMGGWY74HY': 6, '2EUNBS974F0P9': 6, '11KTYTE2T1MX8': 6, '3TD7B0CT1NHO4': 0, '3K77GJCI8FRYU': 6, '18M3NZRZ90IN0': 6, '13M2OZU0IWFY8': 6, '28L0OYU5DZ3XB': 6, '2Z2MUZ76N5EY7': 6, '2KP20R2FWLEEU': 6, '3GKFFNZKEGX72': 0, '1RTV43IBUTZOS': 6, '2X9J09A4IEO77': 6, '2O2ONKO02DKVG': 6, '3J5H0S495TY7L': 0, '2ZM9BGE3K3SY2': 6, '335GUD1YBS31U': 6, '18S2VGUH9SCV5': 6, '1KT01DYA3C067': 6, '2EEUQ81DTY7G3': 6, '26L2A9T2GMI67': 6, '2YF4ZMECJVLK9': 6, '2PAD826IH1HFE': 6, '3Q1ERTRS5APU3': 6, '29EW6FITI2SS4': 10, '1CDNTB7377YH2': 0, '2EMEQCVOTJQN1': 6, '33F2NHAO6HX5E': 9, '22HXI7Y50X4DE': 12, '2GDIWLR2VP389': 12, '1E0KMEYDUL5B8': 12, '31MUO4RO5P2KC': 12, '22QJZDZTXGQ8Y': 12, '2EBLL2OYEQJN9': 6, '3NFEA8H4CD10P': 6, '31XWE5EYPB4WW': 6, '12EC2L7BMJM3R': 6, '1W90UXV2WJ5JC': 0, '2X4XUCJDSEL5V': 0, '2KLT8PCDS4YZY': 0, '1DGSUJ89KN91K': 0, '11B61QBGHLQDN': 0, '3MD5UWAURC93O': 1, '2HCSCZWQJA2LK': 0, '1S5B32WYMEE44': 3, '1KTCCTC9NUXYA': 1, '3KRNOYPJZQMV0': 6, '2XHVH9N2XF3GS': 6, '14HC0KECRL4W9': 6, '3HM5G9IV1FTFP': 6, '2H4513C1BSBF4': 6, '1TW8A17G6SK9G': 6, '350W7RXNOWO2V': 6, '3P0VVFSFJ6ARY': 6, '1ONW4P5LYBTVJ': 3, '1S4YVC8H46F0R': 6, '1QBBL0BGB11HM': 6, '3VHFTMB8TT7DC': 6, '2DSTJCWNTR299': 6, '29BQ6B90Y1R5F': 6, '1MG93B9L0QTQA': 3, '3NHL1J18BQPFV': 3, '3F2DBK8NO7QYI': 6, '26W10N6HVB0ZY': 10, '37BLSYZNNJA7O': 10, '250BI36M1IR26': 10, '1OZ0PGAE70JQI': 10, '18UOZAIADDV6C': 10, '2PEVP36Y5A2EQ': 10, '3CX9ZSEFCDXX4': 10, '1II10WTY8VEUU': 10, '2BIAR1V0PWO27': 10, '142CM2RYBG31R': 10, '20DXF7D1N6HG5': 10, '133ZC2Z8MAIED': 10, '1TIZI060W4BD9': 0, '2JJVCE4MWPQX9': 6, '14FTQ3GI4WKQ8': 0, '3N33KFV2NC87J': 0, '2NCSPA53VB4OK': 0, '170QV8HVJ3CMT': 0, '3SQHOSB2MKTF6': 0, '1FDRQU683S8HJ': 0, '396T2J5VGM5GE': 0, '146WZJLPL6SOA': 0, '3JATV8KPEL90X': 0, '1KL7N5FGZOSD3': 0, '375P67HKMMXTY': 0, '33F8ZLBK7WWD9': 0, '3HD49D8511MFB': 3, '3U81KG8U0ESJM': 6, '397H7LFV6CCKQ': 6, '3AP0FY39VITPH': 6, '37UU69O8BFM4X': 1, '2OS2NZOH7L3N9': 6, '273LW1MLEE3R9': 6, '1AS50CO86MKKJ': 6, '2C76ZITZB6R5Z': 6, '11NOO384U6BTX': 6, '1CH7RKCX5W2C5': 6, '3EBNWSFYPCSXK': 6, '1DNTC3TOC6A7Q': 0, '3NCKDPCAUOD4T': 0, '1JWSDDIH5Z7DV': 3, '3MV1KKHX51FYT': 3, '103U0Q3IKSXHE': 0, '2NC18AD9TSCT4': 0, '2BARLFJXPTV24': 9, '1QQQST9Z1V33K': 9, '2AC2WCT3ZMUW0': 6, '1PKJUAQFGNLSX': 10, '2VMOBY7OG70AO': 6, '1E45C97JEF57H': 6, '16CZRH9AZVKWW': 3, '20CB0XXWS57J9': 6, '196WNS4XO3U0M': 0, '3TKGM2JJJC1I3': 0, '3N5Z38AWBB1OC': 0, '353V3MXFYVVT8': 0, '1JNVG2SDQFQ92': 0, '27OBJA1YDQFZI': 0, '1FH14TQSVDH1X': 0, '2MB8UJRTD25AJ': 0, '3PQY6QEZ2XU9R': 0, '24R8J54OJA35T': 0, '2MQ5S8EFI0Y28': 0, '3J9G5DDTDK5HK': 0, '2NSDLHSG4YBHV': 0, '2LXYUFE96D43S': 6, '1R690JDGZB5I2': 6, '1M36RIBC6IT7F': 6, '2VWQKQNZGG9K6': 3, '3V75A9D14A7MK': 6, '2ATWKOFJXRRR1': 6, '3I92PEEL1B62O': 6, '2F1P10GGZ7K2T': 3, '13U4RTIVFX7ZC': 6, '3O2RCKAMSE9X7': 0, '1M566ZCEEA877': 6, '1QGDMR4XJOA6N': 6, '321HL4JXM8GRW': 6, '37HLB6QDAWFBZ': 3, '181W8CL9IUPPZ': 11, '2IVASW9RVYNGQ': 11, '2W0B5FQ1PTAAZ': 0, '2B8GXSCB1R05T': 6, '3N6UM9I1YD2C6': 6, '126YLPKFPNQDS': 6, '2IYCVYH319OEN': 6, '2UKTUAHL8BDUV': 6, '37B3O457INKEA': 13, '3KL4JSUOH8NVF': 0, '3LZO6UFOAE0JU': 6, '2R1HAXRNU0QX7': 6, '2OO7Z4KX4ECEP': 6, '3T0H5K8K5NEPH': 6, '2ULV7ZOMFLOQN': 6, '1BLRXV5QA2LXX': 6, '28ASF0ICRXPJP': 6, '2KCBPYKU38J46': 6, '18O134PCJYU9O': 6, '13RTV2UOLMNRD': 1, '30GESVUFJTTZF': 6, '3JOQ44W6W3W7K': 6, '2WMEDQT6EL5FM': 6, '2J7NV8LLR237N': 6, '1PPD5TOR6VVYV': 6, '3UJ50L3ST5G95': 0, '19SSMVRB2VMW0': 1, '16W9E27VW9IND': 6, '1NHHWGXHBF7LV': 0, '33872WCAUCJ60': 6, '1MG3W6UTPUCFX': 6, '2H4AWIOK1REMX': 0, '1W1ONKNMIHP99': 0, '1VE9FFQMUC09T': 0, '1JW7M9QIIZN8A': 0, '1VFKMHY42W2O3': 0, '17MBUUL58ZBL3': 0, '2X4G2SLD87MFG': 0, '30RI0AJ4CQBU1': 0, '1AYJGVOUJ3F8R': 3, '26OV8AGP55W37': 6, '1KA4C3V8T52U8': 6, '17B0VKGCRZHKZ': 6, '2RB67N8XJ52QB': 6, '1F62BXMSV8TLS': 6, '14L38EQHPQYZQ': 1, '29EVZV5SGEG0Z': 2, '2BW8ZI352D37P': 6, '3FHSLWEMH7JD8': 1, '2H6SOECSAPEXR': 1, '183ZZ9Y0I4ZDO': 13, '3FM0PAT23VTNA': 13, '25C6AREGE0W03': 6, '2OP1HD9RGX5OW': 9, '2HZ7QF9FWEDXM': 9, '3ILJMKARBP88G': 9, '3CU3GER3D7K7A': 6, '18RZ493P29JW5': 0, '1XAR9ESZ5Q6CV': 0, '1L5RDC8H9BB9S': 10, '2N786KHIFCKJ8': 10, '33H5G0LF065WX': 10, '2ZVOU9X5W2S47': 10, '18V01YK0DCRFT': 10, '3CWLHT8Y2BZB6': 10, '2UBUCOTX1YZH9': 10, '3G1WDBH64M8XV': 6, '20JY8RL920U8H': 6, '2SJ4EEV5PIB7D': 6, '3081QM7NEEPD9': 6, '1IYI81HOOJPEY': 12, '281NPSIMI1C2R': 1, '260HPXUTLD8VV': 1, '1REUA9M4N6JXW': 6, '3AXN8QO3M0JTE': 6, '3JH18T58CY65P': 6, '3JCWGHCVC2ZNF': 6, '3OI15QW4X4Y4D': 6, '126JVOAOOR42V': 0, '1YRV8ICHSL41F': 3, '1TDQZWRLYO7EI': 6, '1ZIXUQYLMKEWI': 3, '1WVO18O43CFD0': 6, '2VNZA22F2QTD8': 0, '1AUBGENRIZODO': 2, '2OUBXLFKXWBDD': 6, '1N3GBBGVA8MY1': 6, '25KKXUQQ0OLWB': 0, '12GQKJI1ARMB7': 3, '3DAOZAWVB0M6X': 2, '1A4DEENGHK51T': 2, '32IWIJ6UI3YYF': 6, '3L9QN0YNV3PUG': 6, '2WG1GQWC4P9KD': 6, '2G1Z591G9QWQC': 3, '1QT0SQ0R3RTWS': 6, '1JFWUAY66SJW6': 6, '20I3ZO2L1TVU2': 6, '3OEECMCM2T4KQ': 6, '3DKP67DK28RUB': 0, '1W6ZBKMXXOA8N': 2, '3JHXM9WAEG9K2': 6, '17TPT3FWAE5T1': 6, '31OPR47BRX2EQ': 0, '3PWPNZVMNX3PA': 0, '15B5DO3A3A30C': 0, '2KKPATTS0K9CL': 0, '2NTJUI2DLZF4R': 0, '1VLJCIGXHB8PF': 0, '35DDC8MZVUNFT': 2, '2LW9E5PPXWOHN': 3, '22FF2UDE62RW2': 1, '3UC4C6JLR2IC0': 6, '39217ZD4DUDN4': 6, '3927BH5H75LII': 6, '316FKPJ2D9JUY': 0, '1G1SYVIY9FEOS': 6, '3FDF80JASNN92': 3, '3GQKB1KF0CRPE': 3, '3I30GP4ZTCJOP': 3, '29SJTG21BVWF4': 10, '30FTDHX23VCAE': 10, '1LEOUZ4WO626M': 10, '36HSR92J2RUZD': 10, '11WQ2N0KPQLXB': 10, '29QRWU45ACNE7': 10, '1A69HOYUR23T3': 10, '1XLP4XL81FNQQ': 10, '2MZT8FPM17FRX': 10, '2RQYLOWN92CCK': 10, '2JQGLUWM5OGN2': 10, '3DXHDF3QM239M': 10, '3696DS4DX9HF9': 10, '1B6O57N3LE7XK': 10, '16S0CNPC88RXH': 0, '1YY2BYGMAMGDX': 0, '1HTQ1DVVXZS9J': 0, '1PIDV6SKBLFQ2': 0, '3SZWG4BDWMK56': 0, '16EJ2ZX9QERZ9': 0, '1O073BHVA56R9': 3, '3W4VE68KZPPLR': 0, '2IX24RC2OV957': 6, '36CI9LLL400DU': 0, '3NSSFRT20WXZ7': 6, '2EOXPEU0CEWGD': 6, '1PPS91NLI7KEH': 6, '1TCDS9S2NIVPB': 6, '3B48AN8JID1JK': 6, '142ZAFELHE7JU': 6, '2LGIVTVJ7PJXN': 6, '170ILOIU1PZN7': 6, '1GNJJV09EJWIA': 6, '1NY28967H5TIQ': 6, '13WS8O77FRTHX': 6, '1BQE2SEOGG4PV': 6, '1QVD9K16N5RQ2': 11, '3SRNXPKZXNA29': 6, '3BIC2SB2O0EGT': 6, '2D7X9N3IV3S7B': 6, '394CTOUGVWBBE': 6, '23HTIYFA0R9LB': 6, '3TK980NRW26U7': 6, '1T3BLDYI85T0W': 0, '160F3IE8OGAYF': 5, '1LOWTY6W12Z14': 0, '2NHDYVPWKRFTS': 2, '1BZOAM350RM6T': 0, '1BMKEJ61X57EU': 4, '2M4R8R6SU049A': 3, '2Q0NO7THY4NCK': 0, '1QFNC2C3JSJQ5': 4, '1LVS0TGCKZW46': 1, '18CA0GRHDVP8X': 1, '3C2FPHNY2UST9': 0, '2Y7Y46HUU4ZZV': 0, '2OLHSFPO070FZ': 6, '23Y9RGNUBONZK': 9, '2L4FD645ZRZ3N': 9, '1YR4OM2QLQ1LY': 9, '3CPUYCE2EIOLN': 9, '1IM8XWM5K0C6G': 9, '3004R7UD5DA27': 9, '35OG5VFDZ8I9C': 9, '1ZP1R4GZNB46J': 9, '2JILMHY7ZAEVD': 9, '2K005W90QEQOP': 9, '185867SG14411': 9, '2T2UMCQ3PA4CM': 9, '2BH8MQ3RF8973': 9, '2UFP902YMPM64': 9, '1RS31J86UOE96': 3, '2JA7C0WEMB1M7': 6, '2CB38FDJWLAAK': 6, '1LVZTL5E78OQD': 6, '16KGGZY2VZ9O5': 1, '25ZQM1JGJ8Q2D': 6, '3EX36SNRYD5VL': 0, '2GDEPPC8BAZRY': 0, '2W8E91R4R9NF5': 0, '2W2EEB4O3V9J4': 14, '3P1A63Q8L32C5': 14, '1RJD10TTI568L': 1, '2S3IFQX9SIHL1': 1, '1S4WQF00WKK0O': 0, '3C8HK3OWP3Y90': 0, '10HWJXUG67E7I': 6, '1T3QB8G4E24PQ': 6, '3USS4O0RQZ37K': 6, '3SYHALCWZ8GOA': 3, '1RR6WPYSV9LOV': 3, '361LE16VBQDP8': 6, '3TPJOEN2CVO36': 1, '2QAOP52OEB5EV': 1, '3AN9NWFWXXUHH': 0, '2FYK4HWXZRLPN': 0, '24D0DENA8N7GH': 1, '1REOAET4NFXWP': 0, '3P60QO5L6XW87': 0, '24505CR98NLLV': 0, '1YRZZ1AYR622U': 6, '3BV9E9XSA4Z73': 1, '3F5JV08JUY06C': 6, '2DU49W6TGU9TU': 0, '305S406GSM7A6': 1, '1YMJX4YWCE6P4': 0, '24IA3AVBZMDCX': 6, '315XM94ZVHOE1': 1, '3R3FAIKKZEUFE': 1, '2FMNQA9RU5RZQ': 1, '1AB7XM279L10G': 0, '21CP0XTTBJJ4W': 0, '3LS6OJMQ9ME6K': 1, '17E7K3MQ5KKR5': 0, '2O2CKQ31ISL80': 0, '14Q14AJC3NUEW': 0, '3PETY8ZKM85YI': 1, '33C5WFMAKRYU9': 0, '3ATTCCO32ZXET': 6, '3SY4KNAONV1DC': 0, '33UH8PS8FH0XT': 1, '2AC7P66SNP4LY': 1, '1YMFU05QT87ON': 0, '18KDPBEW8DGFZ': 6, '2MG8DHACXH5MS': 0, '28XOGR365EHQH': 0, '2BSZPRBKYAB2K': 1, '2TDIL4TGOCK0T': 6, '2PZ0IX3LWBO31': 2, '2AH0UYNT4JKCK': 0, '33CLVW2K7SL1P': 3, '1CIZ90FFOZTLM': 6, '1FG4UIZZWDRQE': 6, '26IQ71XV0AZ1D': 3, '3EYEZ5NH2HFFY': 6, '3IZM1IV4FIIOC': 9, '2MFNDNS1L7D16': 6, '2RTYMNMTFHFNL': 6, '3VWGPUMJMVD1I': 6, '1U3LI7C7ZJYDU': 6, '11PTCZ2FM2547': 2, '2OFPTCDG9MC2V': 3, '2AFCN57CS00DP': 6, '2CG9T2TK8YHYS': 6, '1595DHJHX6JXF': 6, '3P35EWB9J7MNV': 6, '231WM2Z2JL0U3': 4, '16N3IQGFSEBIW': 12, '3J8QBBRL46I3G': 6, '1E5B2QDXYIFD6': 3, '1DRCA6UNGP19D': 6, '11M7JW9RKXCGN': 6, '3R7JIHXCY4N61': 6, '14B2NR2XELLQ0': 3, '3QNMIZ4X5NGXE': 3, '1K18REXZ9TRAW': 2, '1WHAJUBDQFM3Y': 3, '1R77GO77FBLMJ': 3, '3B2DFMVEIT8TS': 2, '1SPGTWOYCXELC': 6, '2ABWIBFOJANYO': 6, '2RQ0AT4XZUIXL': 6, '36OGGJQKZ4SGI': 0, '1365M5OLN8UE7': 15, '3KQJUF7FYM8NF': 15, '30XBDUQ88J2ZN': 15, '3HRBWBN7DH9XV': 15, '3FWZ99GUDAJ3L': 0, '2L6TZ6L2RI38Z': 0, '3VAXB8CDYY5BG': 0, '3TQZ521KSRUZ1': 0, '3B9LH1VUQ8ZVB': 0, '37BASUCZG1WC9': 0, '3GFLNQE45KUMN': 0, '1MVZ6NJ64QVHH': 3, '2BLITJITO97N5': 4, '1SVXJZ3386U2D': 0, '27CFNHYZG6WS8': 0, '2IVCG4IILTY6O': 5, '2C5F4L00Y9XW9': 6, '1EMDSTJDUE6B0': 10, '2IAR5XDY0KT2F': 10, '3NTO9ONSHLPPE': 6, '1W3DWRDBIGUGD': 3, '3N3GNVHFZZ6N1': 6, '3G602Z4DWDZKS': 6, '2NATO75T0HH0R': 6, '2EPZ6GVDVL1SZ': 0, '1ST0TUZNHYRF4': 3, '244KAQUOKIQ80': 3, '2H1O2XUHEZD09': 0, '1I9B4PSCDDWOO': 0, '141G76IBJ7I7T': 6, '1TSU8VM60AD0G': 6, '1RVY7CQW01D41': 5, '24BI5J96Q5DDD': 10, '359ZF3AWW757X': 10, '1BLG3FKJPLSTL': 6, '39G26LKBXB83D': 0, '1E6HUED0EQ15F': 1, '3LYP24Y0F7BZN': 6, '1AHMX5TC676XF': 16, '1XXTDDNAKXLHO': 16, '2MRNU0LPG26DM': 3, '2E7E9EWADK4S6': 6, '14LV2SJSR3102': 6, '34GAJBZQW6IT7': 0, '13WA7OFJRQMOY': 0, '28QEH0SBFAKZH': 0, '1PBUF24G7QYUX': 3, '2UPY6FO9VMZXR': 6, '1XX3RDTQKODEZ': 6, '2229ENXMRMMJ0': 6, '3D7L0R1281COX': 0, '3APPKALUGB2GT': 6, '28JYNYX8B2L8T': 0, '1Q8RKN3R8UVQT': 2, '1ISYXKJ7IQR8B': 5, '35CIFO1KX5EMS': 0, '1Y51DMMLNLU5V': 1, '21J92CRR7TLLY': 0, '3UPYGJKZ0XTU4': 3, '2CZMO338DR720': 6, '23YMNOIXU946Y': 3, '38XHXKPDKHP8N': 2, '2U0DKQPZSD50Y': 5, '28Z9VFE69AHXB': 5, '2IFPL69GGM2X6': 0, '227TY3FDIBI2Q': 6, '3Q70HX7F6SILV': 0, '3BIWTN2DA0YY2': 6, '2QLQJ4G30LT6L': 6, '2QNGCOVXUTAUT': 6, '168YVZU839KB4': 3, '2BCDP4UNI99M3': 6, '1BHCE2409B5QF': 6, '20QDWI4J275VE': 6, '3B5RLQPDIL81C': 3, '3QAZAWSD2A34U': 1, '1O7OMW58QWG5K': 2, '16S93PH4DTHAT': 6, '1UZYUES2HS2XY': 6, '30YW5IGP6SNZK': 6, '1H0J4Y7FIPL7N': 9, '2JPBF1T4HSV2L': 9, '37A44LEGU3T45': 1, '2K4HN6EECBNR3': 6, '1HB9YW2T4JMNL': 3, '1JYYFGPMHSEB6': 5, '2MD5BT7B1EL0I': 6, '3PWF2AQ5XYALW': 10, '3SLA6GMB09MB3': 0, '37IH65E7CTXRS': 0, '3FS107ZKRPQYR': 0, '3C0R7GY25W14E': 6, '1R5PS8M3743RD': 6, '33N3Z9MYSIPRO': 6, '3RX54RU8R8OMH': 6, '3KWNBQN0DSUCK': 0, '1T7AENYEQN184': 3, '1OBPHRXHZF8P6': 1, '140XH16IKR4B0': 6, '16W8HTCIWYDZ6': 0, '24Z2NMIG50EI4': 6, '13KQYPEFE3R90': 6, '33AFRVRA02BAK': 3, '3P1WJQ3SAXK4V': 6, '1IH5JOIN6M2Y8': 1, '1QC2BOU3AL7L8': 6, '3F38O8QPKZMWR': 3, '1MAG8BDOVJHTT': 6, '2VG8F8TL6AYDR': 0, '2DEBYSW5LGFRS': 0, '3SXPY9KF48D8R': 0, '2QXP4TXUDL57Q': 6, '2WR2YJ0N95G5X': 0, '2LICSQ2IFE3C5': 2, '34WDD1FA7HAVA': 2, '328P5DB8UB9J4': 2, '3QLQB0FBL3Q8J': 2, '2WZ3OKU6H716Y': 2, '18ZM0DL1MWZQ0': 5, '1QHXAV7NJT3ZJ': 9, '3MFKQXPA7PERW': 10, '3MSGBIPM8E99N': 6, '2TAPSNKK9AFSQ': 0, '2Y36K7ZNG37C9': 6, '12A08OL0TZY0W': 0, '32AHL4QO77OMR': 3, '1VL96UX4X3UVI': 6, '19LF6TAS3JCQX': 1, '3G6ZV07OB51KJ': 6, '21ZEHK7K4KOS8': 3, '30UNLB8N13SMO': 6, '30MN46HXJGDHW': 2, '1K966MPC3IFFH': 6, '3AUECYM0M0YSX': 1, '36IBXHTLAQPZ1': 6, '3CEXSMWQGLCF5': 1, '1M8PP7MLHNBQB': 1, '3QN51Q4QSIHUG': 6, '18R94XJKN05QJ': 3, '1FHLFWZUIOLXT': 6, '3P1AHO95I5HAQ': 3, '38EDDASAM1W0V': 3, '1WQVN65FTJCJ6': 3, '1H4A6ZTRYYCP6': 1, '38ELBK7FLXGOY': 5, '25A0MJV5TXDR8': 2, '1S11O12GBJ68E': 6, '2H1QHFF9E9HA8': 0, '1GEM4VWJUU47P': 6, '3KKUNIFVEAHNC': 4, '2T14I4WE5L6GP': 3, '3A48XEYWLWH7T': 0, '1KAUV9QYLP52J': 0, '35ZDWBSVBCYBZ': 0, '2UFNPMCFLC7PX': 7, '1IC683USUWHJR': 7, '37OT4OR6ANJVW': 6, '2AUQQLJKR5613': 6, '231N46EIRUF89': 4, '2KFUCHHOKGD7O': 6, '31Z708U15LT3J': 6, '2PLA2SFJE5UZ6': 3, '3EAYLGG6YEL97': 3, '3V2W0GE6XQUPF': 6, '1ZCYC0RHTRMZF': 3, '2DAAPYZTJ9PZA': 3, '1E0RPGCXS4L2G': 4, '1ZM45NJ4DPG4N': 4, '1EUBSW26VSKXB': 0, '1CWP2QV92KA7K': 1, '3RNJUTU6JGB09': 0, '2HW33PQSRHLNO': 0, '2MB5XC5QP3WBW': 6, '2T7GJONIZFP1Q': 6, '2GQ7EUWPSB0OP': 1, '1B29I661YGZEU': 1, '2PNTEDGMOLMOY': 3, '2FHD8ZZFRIRZ3': 6, '3UG0ID1R30HJO': 6, '2CT2KU6H3CW2V': 6, '25KO3P0GFYOSR': 4, '2DOBAWOYQR43T': 0, '3075RVSKC27HU': 3, '2YI3SU5THQUQZ': 1, '37JKM7EFD0DIQ': 1, '1RN5Q2NPT6ISB': 1, '1JAPP1CXRG57A': 2, '2SVP36HIIOTLA': 6, '321ZSDAMPMS9V': 6, '259F4J3QOBIUH': 6, '15X5CN6A37ARY': 6, '3UDD3PIE6LKYP': 6, '3HZMGDHWMQG6X': 3, '2NTLYTNN49AIX': 6, '37HP0FGTHRAQS': 4, '15Q6E38F3EUQB': 0, '2FOIHXARTRQ47': 3, '17X4B27GDCJEY': 3, '2RX6TVTHT4WPJ': 6, '2EFA8TUP4TF96': 3, '1NQ3055H3CKVB': 0, '3KVT8TRSI44NU': 1, '2RUOITT8F4WF2': 3, '1I2O9Y3X3HXLS': 2, '23VGBG17K5NJ3': 6, '2F6909CQ1ALLW': 6, '1WTCSBFHDKJMS': 3, '2P6KAWXJ16234': 6, '21FQMQQ5JJIP7': 1, '1YNAGQZQP8TIM': 3, '3FZWOE24KVVEE': 3, '3FXT4UPI30K7S': 0, '30SBGHR9XR35V': 6, '2JBM4IJ0ZRZ6E': 1}\n"
     ]
    }
   ],
   "source": [
    "from community import community_louvain\n",
    "\n",
    "p2 = community_louvain.best_partition(C1_2)\n",
    "print(p2)"
   ]
  },
  {
   "cell_type": "code",
   "execution_count": 41,
   "metadata": {
    "collapsed": false,
    "pycharm": {
     "name": "#%%\n"
    }
   },
   "outputs": [],
   "source": [
    "df2 = pd.DataFrame(columns=['customer_id','cluster_num'])\n",
    "i=0\n",
    "for k, v in p2.items():\n",
    "    df2.loc[i] = [k,v]\n",
    "    i = i + 1"
   ]
  },
  {
   "cell_type": "code",
   "execution_count": 42,
   "metadata": {
    "collapsed": false,
    "pycharm": {
     "name": "#%%\n"
    }
   },
   "outputs": [
    {
     "data": {
      "text/plain": [
       "6     735\n",
       "0     349\n",
       "3     264\n",
       "1     237\n",
       "5     201\n",
       "2     118\n",
       "4      54\n",
       "10     53\n",
       "9      34\n",
       "12      8\n",
       "11      7\n",
       "8       5\n",
       "15      4\n",
       "13      3\n",
       "14      2\n",
       "16      2\n",
       "7       2\n",
       "Name: cluster_num, dtype: int64"
      ]
     },
     "execution_count": 42,
     "metadata": {},
     "output_type": "execute_result"
    }
   ],
   "source": [
    "df2['cluster_num'].value_counts()"
   ]
  },
  {
   "cell_type": "code",
   "execution_count": 43,
   "metadata": {
    "collapsed": false,
    "pycharm": {
     "name": "#%%\n"
    }
   },
   "outputs": [
    {
     "name": "stdout",
     "output_type": "stream",
     "text": [
      "0       0\n",
      "1       0\n",
      "2       0\n",
      "3       0\n",
      "4       0\n",
      "       ..\n",
      "2073    3\n",
      "2074    3\n",
      "2075    0\n",
      "2076    6\n",
      "2077    1\n",
      "Name: cluster_num, Length: 2078, dtype: int64\n"
     ]
    }
   ],
   "source": [
    "print(df2['cluster_num'])"
   ]
  }
 ],
 "metadata": {
  "kernelspec": {
   "display_name": "Python 3",
   "language": "python",
   "name": "python3"
  },
  "language_info": {
   "codemirror_mode": {
    "name": "ipython",
    "version": 3
   },
   "file_extension": ".py",
   "mimetype": "text/x-python",
   "name": "python",
   "nbconvert_exporter": "python",
   "pygments_lexer": "ipython3",
   "version": "3.8.10"
  }
 },
 "nbformat": 4,
 "nbformat_minor": 2
}